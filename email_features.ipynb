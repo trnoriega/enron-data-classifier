{
 "cells": [
  {
   "cell_type": "code",
   "execution_count": 1,
   "metadata": {
    "collapsed": true
   },
   "outputs": [],
   "source": [
    "\"\"\"\n",
    "1) Read out the titles from emails_by_address to make two lists of tuples:\n",
    "(path to file, email the file describes, if its to_ or from_email)\n",
    "One list will be emails from somebody, the other emails to somebody\n",
    "\n",
    "2) Use the files from (1) to extract email text from each person \n",
    "and create a dict with:\n",
    "top key: email\n",
    "sub keys: poi, from_data, to_data\n",
    "\"\"\"\n",
    "\n",
    "import os\n",
    "import pickle\n",
    "import re\n",
    "from tools.parse_out_email_text import parseOutText\n",
    "from tools.poi_email_addresses import poiEmails"
   ]
  },
  {
   "cell_type": "code",
   "execution_count": 22,
   "metadata": {
    "collapsed": true
   },
   "outputs": [],
   "source": [
    "def find_emailpaths(data_emails):\n",
    "    \"\"\"\n",
    "    Generate list of tuples with:\n",
    "    tup[0] = path to file with paths organized by email address\n",
    "    tup[1] = email address\n",
    "    tup[2] = whether emails were to or from email address\n",
    "    tup[3] = True if email belongs to POI False otherwise\n",
    "    \n",
    "    data_emails determines what emails to include in output.\n",
    "    Should be list of tuples with:\n",
    "    tup[0] = email\n",
    "    tup[1] = True if email belongs to POI False otherwise\n",
    "    \"\"\"\n",
    "    \n",
    "    current_path = os.path.join(os.getcwd(), 'data/emails_by_address')\n",
    "    all_filenames = os.listdir(current_path)\n",
    "    emailpath_tuples = []\n",
    "    \n",
    "    emails, poi_vals = zip(*data_emails)\n",
    "\n",
    "    for filename in all_filenames:\n",
    "        #generate full path to file\n",
    "        temp_path = (os.path.join(current_path, filename))\n",
    "        \n",
    "        #isolate email from filename and determine if to or from\n",
    "        if 'from_' in filename:\n",
    "            temp_filename = filename.replace('from_', '').replace('.txt', '')\n",
    "            to_from = 'from'\n",
    "        elif 'to_' in filename:\n",
    "            temp_filename = filename.replace('to_', '').replace('.txt', '')\n",
    "            to_from = 'to'\n",
    "        \n",
    "        #only include emails from \n",
    "        if temp_filename in emails:\n",
    "            i = emails.index(temp_filename)\n",
    "            tup = (temp_path, temp_filename, to_from, poi_vals[i])\n",
    "            emailpath_tuples.append(tup)\n",
    "\n",
    "    return emailpath_tuples"
   ]
  },
  {
   "cell_type": "code",
   "execution_count": null,
   "metadata": {
    "collapsed": true
   },
   "outputs": [],
   "source": [
    "with open(\"data/final_project_dataset.pkl\", \"r\") as data_file:\n",
    "    data_dict = pickle.load(data_file)"
   ]
  },
  {
   "cell_type": "code",
   "execution_count": 23,
   "metadata": {},
   "outputs": [],
   "source": [
    "data_emails = [(item['email_address'], item['poi']) for item in data_dict.values()]\n",
    "data_emails = [tup for tup in data_emails if tup[0] != 'NaN']\n",
    "emailpath_tuples = find_emailpaths(data_emails)"
   ]
  },
  {
   "cell_type": "code",
   "execution_count": 24,
   "metadata": {},
   "outputs": [
    {
     "data": {
      "text/plain": [
       "('/Users/TRN/Sync/courses/udacity_ml/final_project/data/emails_by_address/from_a..martin@enron.com.txt',\n",
       " 'a..martin@enron.com',\n",
       " 'from',\n",
       " False)"
      ]
     },
     "execution_count": 24,
     "metadata": {},
     "output_type": "execute_result"
    }
   ],
   "source": [
    "emailpath_tuples[0]"
   ]
  },
  {
   "cell_type": "code",
   "execution_count": null,
   "metadata": {
    "collapsed": true
   },
   "outputs": [],
   "source": [
    "def word_dict_maker(emailpath_tuples, temp_save=False):\n",
    "    \"\"\"\n",
    "    Makes word_dict.abs\n",
    "\n",
    "    input:\n",
    "    list of filename_tupes tuples: (path, email associated with path, to or from)\n",
    "\n",
    "    output:\n",
    "    word_dict:\n",
    "    \"\"\"\n",
    "    poi_email_addresses = poiEmails()\n",
    "    # Assumes maildir directory is in current user Desktop rather than project\n",
    "    # worspace\n",
    "    home_path = os.path.expanduser('~')\n",
    "    maildir_path = os.path.join(home_path, 'Desktop')\n",
    "\n",
    "    word_dict = {}\n",
    "    count = 0\n",
    "    for tuple in emailpath_tuples:\n",
    "        print tuple, '\\n**************\\n'\n",
    "\n",
    "        # Main dict entry for the email address being considered\n",
    "        if not word_dict.get(tuple[1]):\n",
    "            word_dict[tuple[1]] = {}\n",
    "\n",
    "        # Subentry indicates if the email_addres belongs to a poi\n",
    "        word_dict[tuple[1]]['poi'] = False\n",
    "        if tuple[1] in poi_email_addresses:\n",
    "            word_dict[tuple[1]]['poi'] = True\n",
    "\n",
    "        # Processed emails will go here\n",
    "        text_data = []\n",
    "\n",
    "        # file with paths to emails from adress opened\n",
    "        with open(tuple[0], 'r') as email_paths:\n",
    "            for email_path in email_paths:\n",
    "                #email_path slice removes a top directory that was removed and newline\n",
    "                email_path = os.path.join(maildir_path, email_path[20:-1])\n",
    "                print '.',\n",
    "                try:\n",
    "                    # File with individual email opened and extracted\n",
    "                    with open(email_path, 'r') as email:\n",
    "                        text = parseOutText(email)\n",
    "                        text_data.append(text)\n",
    "                except IOError:\n",
    "                    print 'ERRROR: ', email_path\n",
    "\n",
    "        # save extracted email list to subentry depending on whether its\n",
    "        # to or from email\n",
    "        if tuple[2] == 'from':\n",
    "            print 'FROM'\n",
    "            word_dict[tuple[1]]['from_emails'] = text_data\n",
    "            print word_dict[tuple[1]].keys()\n",
    "        elif tuple[2] == 'to':\n",
    "            print 'TO'\n",
    "            word_dict[tuple[1]]['to_emails'] = text_data\n",
    "            print word_dict[tuple[1]].keys()\n",
    "\n",
    "        #save to file every 100 loops if temp_save=True\n",
    "        if temp_save:\n",
    "            count += 1\n",
    "            if count%100 == 0:\n",
    "                with open('temp.pkl', 'w') as f:\n",
    "                    pickle.dump(word_dict, f)\n",
    "            elif count == len(emailpath_tuples):\n",
    "                with open('word_dict_subset.pkl', 'w') as f:\n",
    "                    pickle.dump(word_dict, f)\n",
    "\n",
    "    return word_dict"
   ]
  },
  {
   "cell_type": "code",
   "execution_count": null,
   "metadata": {
    "collapsed": true
   },
   "outputs": [],
   "source": [
    "# data_text = word_dict_maker(data_emailpath_tuples, temp_save=True)\n",
    "\n",
    "with open('data/word_dict_subset.pkl', 'rb') as f:\n",
    "    data_text = pickle.load(f)"
   ]
  },
  {
   "cell_type": "code",
   "execution_count": null,
   "metadata": {
    "collapsed": true
   },
   "outputs": [],
   "source": [
    "def test_maker(test_dict):\n",
    "    primary_keys = test_dict.keys()\n",
    "    print 'Primary keys: ', primary_keys\n",
    "    secondary_keys = test_dict[primary_keys[0]].keys()\n",
    "    print 'Seconday keys: ', secondary_keys"
   ]
  },
  {
   "cell_type": "code",
   "execution_count": null,
   "metadata": {
    "collapsed": true
   },
   "outputs": [],
   "source": [
    "def email_list_and_labels(word_dict, to_from_all):\n",
    "    \"\"\"\n",
    "    Makes two lists: One with a set of emails and another labeling the set as:\n",
    "    from poi (1) or non-poi (0)\n",
    "    \"\"\"\n",
    "    emails = []\n",
    "    labels = []\n",
    "    choice_dict = {'from': ['from_emails'],\n",
    "                   'to': ['to_emails'],\n",
    "                   'all': ['from_emails', 'to_emails']}\n",
    "    for key in word_dict:\n",
    "        compilation = []\n",
    "        for sub_key in choice_dict[to_from_all]:\n",
    "            for email in word_dict[key][sub_key]:\n",
    "                compilation.append(email)\n",
    "        compilation = ''.join(compilation)\n",
    "        emails.append(compilation)\n",
    "        label = 0\n",
    "        if word_dict[key]['poi']:\n",
    "            label = 1\n",
    "        labels.append(label)\n",
    "\n",
    "    return emails, labels"
   ]
  },
  {
   "cell_type": "code",
   "execution_count": null,
   "metadata": {
    "collapsed": true
   },
   "outputs": [],
   "source": [
    "#test = {key:data_text[key] for key in list(data_text.keys()[:3])}\n",
    "# all_emails, all_email_labels = email_list_and_labels(data_text, 'all')"
   ]
  }
 ],
 "metadata": {
  "kernelspec": {
   "display_name": "Python 2",
   "language": "python",
   "name": "python2"
  },
  "language_info": {
   "codemirror_mode": {
    "name": "ipython",
    "version": 2
   },
   "file_extension": ".py",
   "mimetype": "text/x-python",
   "name": "python",
   "nbconvert_exporter": "python",
   "pygments_lexer": "ipython2",
   "version": "2.7.13"
  }
 },
 "nbformat": 4,
 "nbformat_minor": 2
}
