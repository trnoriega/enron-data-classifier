{
 "cells": [
  {
   "cell_type": "markdown",
   "metadata": {},
   "source": [
    "# Generate polynomial features from minimal dataset"
   ]
  },
  {
   "cell_type": "markdown",
   "metadata": {},
   "source": [
    "### Load minimal project dataset as `data_dict` and convert to numpy arrays"
   ]
  },
  {
   "cell_type": "code",
   "execution_count": 1,
   "metadata": {
    "collapsed": true
   },
   "outputs": [],
   "source": [
    "import numpy as np\n",
    "import matplotlib.pyplot as plt\n",
    "import os\n",
    "import pickle\n",
    "import re\n",
    "\n",
    "HOME_PATH = os.path.expanduser('~')\n",
    "DATA_PATH = os.path.join(HOME_PATH, 'Desktop', 'raw_data', 'ml')\n",
    "\n",
    "with open('data/final_project_dataset.pkl', 'r') as data_file:\n",
    "    data_dict = pickle.load(data_file)\n",
    "\n",
    "del data_dict['TOTAL']\n",
    "del data_dict['LOCKHART EUGENE E'] # has only NaN values"
   ]
  },
  {
   "cell_type": "code",
   "execution_count": 2,
   "metadata": {},
   "outputs": [
    {
     "name": "stdout",
     "output_type": "stream",
     "text": [
      "Length of all_keys before moving poi 20\n",
      "Length of all_keys AFTER moving poi 20\n",
      "First item in all_keys:  poi\n"
     ]
    }
   ],
   "source": [
    "all_keys = data_dict['METTS MARK'].keys()\n",
    "all_keys.remove('email_address')\n",
    "print 'Length of all_keys before moving poi', len(all_keys)\n",
    "all_keys.insert(0, all_keys.pop(all_keys.index('poi')))\n",
    "print 'Length of all_keys AFTER moving poi', len(all_keys)\n",
    "print 'First item in all_keys: ', all_keys[0]"
   ]
  },
  {
   "cell_type": "code",
   "execution_count": 3,
   "metadata": {},
   "outputs": [
    {
     "name": "stdout",
     "output_type": "stream",
     "text": [
      "(144,) (144,) (144, 19)\n"
     ]
    }
   ],
   "source": [
    "from tools.feature_format import featureFormat\n",
    "\n",
    "data = featureFormat(data_dict, all_keys, sort_keys=True, keep_keys=True, remove_NaN=False)\n",
    "keys, labels, features = data[:,0],\\\n",
    "                         data[:,1].astype(float),\\\n",
    "                         data[:, 2:].astype(float)\n",
    "print keys.shape, labels.shape, features.shape"
   ]
  },
  {
   "cell_type": "markdown",
   "metadata": {},
   "source": [
    "### Impute missing values using the mean of available feature data."
   ]
  },
  {
   "cell_type": "code",
   "execution_count": 4,
   "metadata": {
    "collapsed": true
   },
   "outputs": [],
   "source": [
    "from sklearn.preprocessing import Imputer\n",
    "\n",
    "imp = Imputer(strategy='mean')\n",
    "imp_features = imp.fit_transform(features)"
   ]
  },
  {
   "cell_type": "markdown",
   "metadata": {},
   "source": [
    "### Add 2 and 3rd order polynomial interaction features"
   ]
  },
  {
   "cell_type": "code",
   "execution_count": 5,
   "metadata": {},
   "outputs": [
    {
     "data": {
      "text/plain": [
       "((144, 1539), (1539,))"
      ]
     },
     "execution_count": 5,
     "metadata": {},
     "output_type": "execute_result"
    }
   ],
   "source": [
    "from sklearn.preprocessing import PolynomialFeatures\n",
    "\n",
    "poly = PolynomialFeatures(3, include_bias=False)\n",
    "poly_features = poly.fit_transform(imp_features)\n",
    "poly_names = np.array(poly.get_feature_names(all_keys[1:]))\n",
    "poly_features.shape, poly_names.shape"
   ]
  },
  {
   "cell_type": "code",
   "execution_count": 6,
   "metadata": {},
   "outputs": [
    {
     "name": "stdout",
     "output_type": "stream",
     "text": [
      "[] \n",
      "length:  0\n",
      "(144, 1539) (1539,)\n"
     ]
    }
   ],
   "source": [
    "# Polynomials create some constant features with stdev == 0, \n",
    "# confirm that they are polynomials and remove them before feature selection\n",
    "poly_std = np.std(poly_features, axis=0)\n",
    "mask = np.where(poly_std == 0)\n",
    "anti_mask = np.where(poly_std != 0)\n",
    "print(poly_names[mask]), '\\nlength: ', len(poly_names[mask])\n",
    "mask_poly_features = poly_features[:, anti_mask[0]]\n",
    "mask_poly_names = poly_names[anti_mask[0]]\n",
    "print mask_poly_features.shape, mask_poly_names.shape"
   ]
  },
  {
   "cell_type": "markdown",
   "metadata": {},
   "source": [
    "## Select the most distinct features"
   ]
  },
  {
   "cell_type": "code",
   "execution_count": 7,
   "metadata": {},
   "outputs": [
    {
     "data": {
      "image/png": "[encoded data removed]",
      "text/plain": [
       "<matplotlib.figure.Figure at 0x1137f8190>"
      ]
     },
     "metadata": {},
     "output_type": "display_data"
    }
   ],
   "source": [
    "from sklearn.feature_selection import SelectPercentile, f_classif\n",
    "\n",
    "percentile = 5\n",
    "\n",
    "selector = SelectPercentile(f_classif, percentile=percentile)\n",
    "selector.fit(mask_poly_features, labels)\n",
    "scores = selector.scores_\n",
    "sorted_scores = sorted(scores, reverse=True)\n",
    "x = range(len(scores))\n",
    "fig = plt.figure(figsize=(14,7))\n",
    "ax1 = fig.add_subplot(121, title='p-scores for all features')\n",
    "ax1.scatter(x, sorted_scores)\n",
    "ax1.axvline(x=mask_poly_features.shape[1]*percentile/100, color='r', linestyle='--')\n",
    "\n",
    "sel_mask = selector.get_support()\n",
    "sel_masked_scores = scores[sel_mask]\n",
    "sel_masked_scores = sorted(sel_masked_scores, reverse=True)\n",
    "x = range(len(sel_masked_scores))\n",
    "ax2 = fig.add_subplot(122, title='p-scores for selected features')\n",
    "ax2.scatter(x, sel_masked_scores)\n",
    "plt.show()"
   ]
  },
  {
   "cell_type": "markdown",
   "metadata": {},
   "source": [
    "### Create a dictionary of the selected features"
   ]
  },
  {
   "cell_type": "code",
   "execution_count": 8,
   "metadata": {},
   "outputs": [
    {
     "name": "stdout",
     "output_type": "stream",
     "text": [
      "(144, 77) (77,)\n"
     ]
    }
   ],
   "source": [
    "sel_features = selector.transform(mask_poly_features)\n",
    "sel_poly_names = mask_poly_names[sel_mask]\n",
    "print sel_features.shape, sel_poly_names.shape"
   ]
  },
  {
   "cell_type": "markdown",
   "metadata": {},
   "source": [
    "Add four names/emails introduced in [save_email_features](save_email_features.ipynb)"
   ]
  },
  {
   "cell_type": "code",
   "execution_count": 18,
   "metadata": {},
   "outputs": [
    {
     "name": "stdout",
     "output_type": "stream",
     "text": [
      "Expanded array shape: (148, 77)\n"
     ]
    }
   ],
   "source": [
    "vector_only_names= np.array(['FORNEY M', 'DESPAIN TIM', 'LAWYER LARRY', 'RICHTER JEFF'])\n",
    "all_keys = np.concatenate((keys, vector_only_names))\n",
    "to_concat = np.zeros((4, sel_features.shape[1]))\n",
    "to_concat.fill(np.nan)\n",
    "sel_features_expanded = np.concatenate((sel_features, to_concat), axis=0)\n",
    "print 'Expanded array shape:', sel_features_expanded.shape"
   ]
  },
  {
   "cell_type": "code",
   "execution_count": 23,
   "metadata": {
    "collapsed": true
   },
   "outputs": [],
   "source": [
    "from sklearn.preprocessing import Imputer, RobustScaler\n",
    "\n",
    "imp = Imputer(strategy='mean')\n",
    "imp_sel_features_expanded = imp.fit_transform(sel_features_expanded)\n",
    "scaler = RobustScaler()\n",
    "final_features = scaler.fit_transform(imp_sel_features_expanded)"
   ]
  },
  {
   "cell_type": "code",
   "execution_count": 25,
   "metadata": {},
   "outputs": [
    {
     "name": "stdout",
     "output_type": "stream",
     "text": [
      "FORNEY M\n",
      "DESPAIN TIM\n",
      "LAWYER LARRY\n",
      "RICHTER JEFF\n"
     ]
    }
   ],
   "source": [
    "poly_data = {}\n",
    "for ik, key in enumerate(all_keys):\n",
    "    poly_data[key] = {}\n",
    "    \n",
    "    try:\n",
    "        poly_data[key]['poi'] = data_dict[key]['poi']\n",
    "    except KeyError:\n",
    "        print key\n",
    "        poly_data[key]['poi'] = True #All the new keys are pois\n",
    "    \n",
    "    for i, name in enumerate(sel_poly_names):\n",
    "        poly_data[key][name] = float(final_features[ik, i])"
   ]
  },
  {
   "cell_type": "code",
   "execution_count": 27,
   "metadata": {},
   "outputs": [
    {
     "name": "stdout",
     "output_type": "stream",
     "text": [
      "poly_data length:  148  compare with:  148\n",
      "inner keys length:  78  compare with:  78\n"
     ]
    }
   ],
   "source": [
    "print 'poly_data length: ', len(poly_data),\\\n",
    "      ' compare with: ', len(data_dict) + 4\n",
    "print 'inner keys length: ', len(poly_data['METTS MARK']),\\\n",
    "      ' compare with: ', len(sel_poly_names) + 1 # +1 for 'poi'"
   ]
  },
  {
   "cell_type": "markdown",
   "metadata": {},
   "source": [
    "### Save new data as a dictionary: `poly_data.pkl` and a list of each person's keys:  `poly_names.pkl`"
   ]
  },
  {
   "cell_type": "code",
   "execution_count": 28,
   "metadata": {
    "collapsed": true
   },
   "outputs": [],
   "source": [
    "poly_path = os.path.join(DATA_PATH, 'poly_data.pkl')\n",
    "with open(poly_path, 'wb') as f:\n",
    "    pickle.dump(poly_data, f, protocol=pickle.HIGHEST_PROTOCOL)"
   ]
  },
  {
   "cell_type": "code",
   "execution_count": 29,
   "metadata": {
    "collapsed": true
   },
   "outputs": [],
   "source": [
    "sel_poly_names = list(sel_poly_names)\n",
    "sel_poly_names.insert(0, 'poi')\n",
    "keys_path = os.path.join(DATA_PATH, 'poly_names.pkl')\n",
    "with open(keys_path, 'wb') as f:\n",
    "    pickle.dump(sel_poly_names, f, protocol=pickle.HIGHEST_PROTOCOL)"
   ]
  }
 ],
 "metadata": {
  "kernelspec": {
   "display_name": "Python 2",
   "language": "python",
   "name": "python2"
  },
  "language_info": {
   "codemirror_mode": {
    "name": "ipython",
    "version": 2
   },
   "file_extension": ".py",
   "mimetype": "text/x-python",
   "name": "python",
   "nbconvert_exporter": "python",
   "pygments_lexer": "ipython2",
   "version": "2.7.13"
  }
 },
 "nbformat": 4,
 "nbformat_minor": 2
}
