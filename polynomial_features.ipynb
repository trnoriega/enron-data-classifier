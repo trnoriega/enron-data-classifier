{
 "cells": [
  {
   "cell_type": "markdown",
   "metadata": {},
   "source": [
    "# Generate polynomial features from minimal dataset"
   ]
  },
  {
   "cell_type": "markdown",
   "metadata": {},
   "source": [
    "Load minimal project dataset as `data_dict`"
   ]
  },
  {
   "cell_type": "code",
   "execution_count": 1,
   "metadata": {
    "collapsed": true
   },
   "outputs": [],
   "source": [
    "import numpy as np\n",
    "import matplotlib.pyplot as plt\n",
    "import os\n",
    "import pickle\n",
    "import re\n",
    "\n",
    "HOME_PATH = os.path.expanduser('~')\n",
    "DATA_PATH = os.path.join(HOME_PATH, 'Desktop', 'raw_data', 'ml')\n",
    "\n",
    "with open('data/final_project_dataset.pkl', 'r') as data_file:\n",
    "    data_dict = pickle.load(data_file)\n",
    "\n",
    "del data_dict['TOTAL']"
   ]
  },
  {
   "cell_type": "code",
   "execution_count": 29,
   "metadata": {},
   "outputs": [
    {
     "name": "stdout",
     "output_type": "stream",
     "text": [
      "Length of all_keys before moving poi 20\n",
      "Length of all_keys AFTER moving poi 20\n",
      "First item in all_keys:  poi\n"
     ]
    }
   ],
   "source": [
    "all_keys = data_dict['METTS MARK'].keys()\n",
    "all_keys.remove('email_address')\n",
    "print 'Length of all_keys before moving poi', len(all_keys)\n",
    "all_keys.insert(0, all_keys.pop(all_keys.index('poi')))\n",
    "print 'Length of all_keys AFTER moving poi', len(all_keys)\n",
    "print 'First item in all_keys: ', all_keys[0]"
   ]
  },
  {
   "cell_type": "code",
   "execution_count": 30,
   "metadata": {},
   "outputs": [
    {
     "data": {
      "text/plain": [
       "((144,), (144, 19))"
      ]
     },
     "execution_count": 30,
     "metadata": {},
     "output_type": "execute_result"
    }
   ],
   "source": [
    "from tools.feature_format import featureFormat\n",
    "\n",
    "data = featureFormat(data_dict, all_keys, sort_keys=True, keep_keys=True)\n",
    "keys, labels, features = data[:,0], data[:,1].astype(float), data[:, 2:].astype(float)\n",
    "labels.shape, features.shape"
   ]
  },
  {
   "cell_type": "markdown",
   "metadata": {},
   "source": [
    "Scale features and add polynomial interaction features"
   ]
  },
  {
   "cell_type": "code",
   "execution_count": 31,
   "metadata": {},
   "outputs": [
    {
     "data": {
      "text/plain": [
       "(144, 1540)"
      ]
     },
     "execution_count": 31,
     "metadata": {},
     "output_type": "execute_result"
    }
   ],
   "source": [
    "from sklearn.preprocessing import StandardScaler, PolynomialFeatures\n",
    "\n",
    "scaler = StandardScaler()\n",
    "polymaker = PolynomialFeatures(3)\n",
    "scaled_features = scaler.fit_transform(features)\n",
    "poly_features = polymaker.fit_transform(scaled_features)\n",
    "poly_features.shape"
   ]
  },
  {
   "cell_type": "markdown",
   "metadata": {},
   "source": [
    "Select the top 10% most significant features"
   ]
  },
  {
   "cell_type": "code",
   "execution_count": 43,
   "metadata": {},
   "outputs": [
    {
     "data": {
      "image/png": "[encoded data removed]",
      "text/plain": [
       "<matplotlib.figure.Figure at 0x119ee65d0>"
      ]
     },
     "metadata": {},
     "output_type": "display_data"
    }
   ],
   "source": [
    "from sklearn.feature_selection import SelectPercentile, f_classif\n",
    "selector = SelectPercentile(f_classif, percentile=5)\n",
    "selector.fit(poly_features, labels)\n",
    "scores = selector.scores_\n",
    "sorted_scores = sorted(scores, reverse=True)\n",
    "x = range(len(scores))\n",
    "fig = plt.figure(figsize=(14,7))\n",
    "ax1 = fig.add_subplot(121, title='p-scores for all features')\n",
    "ax1.scatter(x, sorted_scores)\n",
    "mask = selector.get_support()\n",
    "masked_scores = scores[mask]\n",
    "masked_scores = sorted(masked_scores, reverse=True)\n",
    "x = range(len(masked_scores))\n",
    "ax2 = fig.add_subplot(122, title='p-scores for selected features')\n",
    "ax2.scatter(x, masked_scores)\n",
    "plt.show()"
   ]
  },
  {
   "cell_type": "markdown",
   "metadata": {},
   "source": [
    "Create a dictionary of the selected features"
   ]
  },
  {
   "cell_type": "code",
   "execution_count": 44,
   "metadata": {},
   "outputs": [],
   "source": [
    "sel_features =  selector.transform(poly_features)\n",
    "poly_names = np.array(polymaker.get_feature_names(all_keys[1:]))\n",
    "sel_poly_names = poly_names[mask]"
   ]
  },
  {
   "cell_type": "code",
   "execution_count": 46,
   "metadata": {},
   "outputs": [],
   "source": [
    "poly_data = {}\n",
    "for ik, key in enumerate(keys):\n",
    "    poly_data[key] = {}\n",
    "    poly_data[key]['poi'] = data_dict[key]['poi']\n",
    "    for i, name in enumerate(sel_poly_names):\n",
    "        poly_data[key][name] = float(sel_features[ik, i])"
   ]
  },
  {
   "cell_type": "code",
   "execution_count": 48,
   "metadata": {},
   "outputs": [
    {
     "name": "stdout",
     "output_type": "stream",
     "text": [
      "poly_data length:  144  compare with:  146\n",
      "inner keys length:  78  compare with:  78\n"
     ]
    }
   ],
   "source": [
    "print 'poly_data length: ', len(poly_data),\\\n",
    "      ' compare with: ', len(data_dict) + 1 # +1 for TOTAL\n",
    "print 'inner keys length: ', len(poly_data['METTS MARK']),\\\n",
    "      ' compare with: ', len(sel_poly_names) + 1 # +1 for 'poi'"
   ]
  },
  {
   "cell_type": "markdown",
   "metadata": {},
   "source": [
    "Save new data dictionary as `poly_data.pkl` and a list of each person's keys as `poly_names.pkl`"
   ]
  },
  {
   "cell_type": "code",
   "execution_count": 50,
   "metadata": {},
   "outputs": [],
   "source": [
    "poly_path = os.path.join(DATA_PATH, 'poly_data.pkl')\n",
    "with open(poly_path, 'wb') as f:\n",
    "    pickle.dump(poly_data, f, protocol=pickle.HIGHEST_PROTOCOL)"
   ]
  },
  {
   "cell_type": "code",
   "execution_count": 52,
   "metadata": {},
   "outputs": [],
   "source": [
    "sel_poly_names = list(sel_poly_names)\n",
    "sel_poly_names.insert(0, 'poi')\n",
    "keys_path = os.path.join(DATA_PATH, 'poly_names.pkl')\n",
    "with open(keys_path, 'wb') as f:\n",
    "    pickle.dump(sel_poly_names, f, protocol=pickle.HIGHEST_PROTOCOL)"
   ]
  }
 ],
 "metadata": {
  "kernelspec": {
   "display_name": "Python 2",
   "language": "python",
   "name": "python2"
  },
  "language_info": {
   "codemirror_mode": {
    "name": "ipython",
    "version": 2
   },
   "file_extension": ".py",
   "mimetype": "text/x-python",
   "name": "python",
   "nbconvert_exporter": "python",
   "pygments_lexer": "ipython2",
   "version": "2.7.13"
  }
 },
 "nbformat": 4,
 "nbformat_minor": 2
}
