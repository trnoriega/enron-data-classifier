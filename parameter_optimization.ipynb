{
 "cells": [
  {
   "cell_type": "markdown",
   "metadata": {},
   "source": [
    "# Parameter optimization"
   ]
  },
  {
   "cell_type": "markdown",
   "metadata": {
    "collapsed": true
   },
   "source": [
    "### Get the data already preprocessed\n",
    "\n",
    "- `poly_data` and `poly_names` from [polynomial_features](polynomial_features.ipynb)\n",
    "- `vector_data` and `vector_names` from [save_email_features](save_email_features.ipynb)"
   ]
  },
  {
   "cell_type": "code",
   "execution_count": 1,
   "metadata": {
    "collapsed": true
   },
   "outputs": [],
   "source": [
    "import numpy as np\n",
    "import matplotlib.pyplot as plt\n",
    "import os\n",
    "import pickle\n",
    "\n",
    "HOME_PATH = os.path.expanduser('~')\n",
    "DATA_PATH = os.path.join(HOME_PATH, 'Desktop', 'raw_data', 'ml')\n",
    "\n",
    "poly_path = os.path.join(DATA_PATH, 'poly_data.pkl')\n",
    "poly_names_path = os.path.join(DATA_PATH, 'poly_names.pkl')\n",
    "with open(poly_path, 'rb') as f:\n",
    "    poly_data = pickle.load(f)\n",
    "with open(poly_names_path, 'rb') as f:\n",
    "    poly_names = pickle.load(f)\n",
    "    \n",
    "vector_path = os.path.join(DATA_PATH, 'vector_data.pkl')\n",
    "vector_names_path = os.path.join(DATA_PATH, 'vector_names.pkl')\n",
    "\n",
    "with open(vector_path, 'rb') as f:\n",
    "    vector_data = pickle.load(f)\n",
    "with open(vector_names_path, 'rb') as f:\n",
    "    vector_names = pickle.load(f)"
   ]
  },
  {
   "cell_type": "markdown",
   "metadata": {},
   "source": [
    "Merge dictionaries and feature lists"
   ]
  },
  {
   "cell_type": "code",
   "execution_count": 2,
   "metadata": {},
   "outputs": [
    {
     "name": "stdout",
     "output_type": "stream",
     "text": [
      "inner keys: 4290 compare: 4290\n"
     ]
    }
   ],
   "source": [
    "from copy import deepcopy\n",
    "final_data = deepcopy(poly_data)\n",
    "for key, item in final_data.items():\n",
    "    item.update(vector_data[key])\n",
    "    \n",
    "print 'inner keys:', len(final_data['METTS MARK'].keys()),\\\n",
    "      'compare:', len(vector_data['METTS MARK'].keys()) + len(poly_data['METTS MARK'].keys()) - 1"
   ]
  },
  {
   "cell_type": "code",
   "execution_count": 3,
   "metadata": {},
   "outputs": [
    {
     "name": "stdout",
     "output_type": "stream",
     "text": [
      "inner keys: 4290 compare: 4290\n",
      "Features: 4290 compare: 4290\n"
     ]
    }
   ],
   "source": [
    "from copy import deepcopy\n",
    "final_data = deepcopy(poly_data)\n",
    "for key, item in final_data.items():\n",
    "    item.update(vector_data[key])\n",
    "    \n",
    "print 'inner keys:', len(final_data['METTS MARK'].keys()),\\\n",
    "      'compare:', len(vector_data['METTS MARK'].keys()) + len(poly_data['METTS MARK'].keys()) - 1\n",
    "\n",
    "vector_names.remove('poi')\n",
    "final_names = poly_names + vector_names\n",
    "print 'Features:', len(final_names), 'compare:', len(final_data['METTS MARK'].keys())"
   ]
  },
  {
   "cell_type": "markdown",
   "metadata": {},
   "source": [
    "Convert data to a usable array"
   ]
  },
  {
   "cell_type": "code",
   "execution_count": 144,
   "metadata": {},
   "outputs": [
    {
     "name": "stdout",
     "output_type": "stream",
     "text": [
      "Keys, labels, features shapes: (148,) (148,) (148, 4289)\n"
     ]
    }
   ],
   "source": [
    "from tools.feature_format import featureFormat\n",
    "\n",
    "array = featureFormat(final_data, final_names,\n",
    "                      keep_keys=True, remove_NaN=True, remove_all_zeroes=False)\n",
    "keys, labels, features =\\\n",
    "        array[:,0], array[:,1].astype(np.float16), array[:, 2:].astype(np.float32)\n",
    "\n",
    "print 'Keys, labels, features shapes:', keys.shape, labels.shape, features.shape"
   ]
  },
  {
   "cell_type": "code",
   "execution_count": 145,
   "metadata": {
    "collapsed": true
   },
   "outputs": [],
   "source": [
    "from sklearn.model_selection import train_test_split\n",
    "\n",
    "train_features, test_features, train_labels, test_labels =\\\n",
    "train_test_split(features, labels, test_size=0.4, random_state=42)"
   ]
  },
  {
   "cell_type": "markdown",
   "metadata": {},
   "source": [
    "### Test on different classifiers"
   ]
  },
  {
   "cell_type": "code",
   "execution_count": 124,
   "metadata": {
    "collapsed": true
   },
   "outputs": [],
   "source": [
    "#Scoring function\n",
    "from sklearn.model_selection import cross_val_score, StratifiedKFold\n",
    "from sklearn.metrics import classification_report\n",
    "import scipy.stats as st\n",
    "\n",
    "def t_delta(percent, scores):\n",
    "    \"\"\"\n",
    "    Returns the size of a t-test error bar that defines a given percent confidence \n",
    "    \"\"\"\n",
    "    mean, sem = np.mean(scores), st.sem(scores)\n",
    "    interval = st.t.interval(percent/float(100), len(scores)-1, loc=mean, scale=sem)\n",
    "    delta = mean - interval[0]\n",
    "    return delta\n",
    "\n",
    "\n",
    "def scores(clf, features, labels, printout=False):\n",
    "    title = str(type(clf))\n",
    "    title = title.split('.')[-1][:-2]\n",
    "    \n",
    "    if printout:\n",
    "        print '%s:\\n' % title\n",
    "    \n",
    "    summary_dict = {title: {}}\n",
    "    \n",
    "    cv = StratifiedKFold(n_splits=3, shuffle=True, random_state=41)\n",
    "    \n",
    "    for scoring in ['recall', 'precision', 'f1']:\n",
    "        scores = cross_val_score(clf, features, labels, cv=cv, scoring=scoring)\n",
    "        mean =  np.mean(scores)\n",
    "        # t-test 95% confidence interval\n",
    "        delta = t_delta(95, scores)\n",
    "        \n",
    "        summary_dict[title][scoring] = (mean, delta)\n",
    "        \n",
    "        if printout:\n",
    "            print '-', scoring, scores\n",
    "            print 'Mean: %0.2f (+/-%0.2f)' % (mean, delta)\n",
    "    \n",
    "    return summary_dict"
   ]
  },
  {
   "cell_type": "code",
   "execution_count": 146,
   "metadata": {},
   "outputs": [
    {
     "name": "stdout",
     "output_type": "stream",
     "text": [
      "GaussianNB:\n",
      "\n",
      "- recall [ 0.25        0.14285714  0.28571429]\n",
      "Mean: 0.23 (+/-0.18)\n",
      "- precision [ 0.4  1.   1. ]\n",
      "Mean: 0.80 (+/-0.86)\n",
      "- f1 [ 0.30769231  0.25        0.44444444]\n",
      "Mean: 0.33 (+/-0.25)\n"
     ]
    }
   ],
   "source": [
    "from sklearn.naive_bayes import GaussianNB\n",
    "\n",
    "clf = GaussianNB()\n",
    "nb_scores = scores(clf, features, labels, printout=True)"
   ]
  },
  {
   "cell_type": "code",
   "execution_count": 147,
   "metadata": {},
   "outputs": [],
   "source": [
    "### Try a variety of classifiers\n",
    "from sklearn.svm import SVC \n",
    "from sklearn.ensemble import RandomForestClassifier, ExtraTreesClassifier, AdaBoostClassifier\n",
    "from sklearn.linear_model import LogisticRegression\n",
    "\n",
    "clfs = [SVC(), \n",
    "        AdaBoostClassifier(),\n",
    "        ExtraTreesClassifier(),\n",
    "        RandomForestClassifier(),\n",
    "        LogisticRegression()]\n",
    "\n",
    "scores_list = []\n",
    "for clf in clfs:\n",
    "    title = str(type(clf))\n",
    "    title = title.split('.')[-1][:-2]\n",
    "    scores_list.append(scores(clf, train_features, train_labels))"
   ]
  },
  {
   "cell_type": "code",
   "execution_count": 148,
   "metadata": {},
   "outputs": [
    {
     "data": {
      "image/png": "[encoded data removed]",
      "text/plain": [
       "<matplotlib.figure.Figure at 0x117ff7290>"
      ]
     },
     "metadata": {},
     "output_type": "display_data"
    }
   ],
   "source": [
    "keys = []\n",
    "f1s = []\n",
    "precisions = []\n",
    "recalls = []\n",
    "\n",
    "for dicto in scores_list:\n",
    "    key, item = dicto.items()[0]\n",
    "    keys.append(key)\n",
    "    f1s.append(item['f1'])\n",
    "    precisions.append(item['precision'])\n",
    "    recalls.append(item['recall'])\n",
    "\n",
    "labels = ['f1', 'precision', 'recall']\n",
    "values = [f1s, precisions, recalls]\n",
    "colors = ['#EE3224', '#F78F1E', '#FFC222']\n",
    "\n",
    "pos = list(range(len(keys)))\n",
    "width = 0.25\n",
    "\n",
    "plt.close('all')\n",
    "fig, ax = plt.subplots(figsize=(10,7))\n",
    "for i, value in enumerate(values):\n",
    "    means, stds = zip(*value)\n",
    "    plt.bar([p + width*i for p in pos],\n",
    "            means,\n",
    "            width,\n",
    "            yerr=stds,\n",
    "            alpha=0.5,\n",
    "            color=colors[i],\n",
    "            label=labels[i])\n",
    "\n",
    "ax.set_ylabel('Score')\n",
    "ax.set_title('Unoptimized algorithm scores')\n",
    "ax.set_xticks([p + width for p in pos])\n",
    "ax.set_xticklabels(keys, rotation=45, horizontalalignment='right')\n",
    "plt.xlim(min(pos)-width, max(pos)+width*4)\n",
    "\n",
    "ax.hlines(0.3, ax.get_xlim()[0], ax.get_xlim()[1], linestyles='dashed', colors='r')\n",
    "\n",
    "plt.legend(loc='upper right')\n",
    "plt.grid()\n",
    "plt.show()"
   ]
  },
  {
   "cell_type": "code",
   "execution_count": 149,
   "metadata": {},
   "outputs": [
    {
     "ename": "AttributeError",
     "evalue": "'list' object has no attribute 'shape'",
     "output_type": "error",
     "traceback": [
      "\u001b[0;31m---------------------------------------------------------------------------\u001b[0m",
      "\u001b[0;31mAttributeError\u001b[0m                            Traceback (most recent call last)",
      "\u001b[0;32m<ipython-input-149-8d30595ef4a9>\u001b[0m in \u001b[0;36m<module>\u001b[0;34m()\u001b[0m\n\u001b[0;32m----> 1\u001b[0;31m \u001b[0mfeatures\u001b[0m\u001b[0;34m.\u001b[0m\u001b[0mshape\u001b[0m\u001b[0;34m,\u001b[0m \u001b[0mlabels\u001b[0m\u001b[0;34m.\u001b[0m\u001b[0mshape\u001b[0m\u001b[0;34m\u001b[0m\u001b[0m\n\u001b[0m",
      "\u001b[0;31mAttributeError\u001b[0m: 'list' object has no attribute 'shape'"
     ]
    }
   ],
   "source": [
    "features.shape, labels.shape"
   ]
  },
  {
   "cell_type": "code",
   "execution_count": 81,
   "metadata": {
    "collapsed": true
   },
   "outputs": [],
   "source": [
    "from sklearn.tree import DecisionTreeClassifier\n",
    "from sklearn.pipeline import Pipeline \n",
    "\n",
    "pipe = Pipeline(steps=[('estimator', None)])\n",
    "\n",
    "SV = SVC(random_state=42)\n",
    "SV_params = {'estimator': [SV],\n",
    "             'estimator__C': [1e-2, 1e-1, 1, 1e1, 1e2],\n",
    "             'estimator__kernel': ['linear', 'rbf'],\n",
    "             'estimator__tol': [1e-4, 5e-4, 1e-3],\n",
    "             'estimator__class_weight': [None, 'balanced']}\n",
    "\n",
    "DTC = DecisionTreeClassifier(random_state=42)\n",
    "ABC = AdaBoostClassifier(base_estimator=DTC, random_state=42)\n",
    "ABC_params = {'estimator': [ABC],\n",
    "              'estimator__base_estimator__max_depth': [None, 3, 6, 12, 24, 48],\n",
    "              'estimator__base_estimator__min_samples_leaf': [1, 2, 4, 8, 16],\n",
    "              'estimator__base_estimator__class_weight': [None, 'balanced'],\n",
    "              'estimator__n_estimators': [25, 50, 100, 250],\n",
    "              'estimator__learning_rate': [0.01, 0.1, 1, 10]}\n",
    "\n",
    "LR = LogisticRegression(solver='lbfgs')\n",
    "LR_params = {'estimator': [LR],\n",
    "             'estimator__C': [1e-2, 1e-1, 1, 1e1, 1e2],\n",
    "             'estimator__class_weight': [None, 'balanced'],\n",
    "             'estimator__max_iter': [100, 200],\n",
    "             'estimator__tol': [1e-4, 5e-4, 1e-3],\n",
    "             'estimator__warm_start': [False, True]}\n",
    "\n",
    "all_params = [SV_params, ABC_params, LR_params]"
   ]
  },
  {
   "cell_type": "code",
   "execution_count": 82,
   "metadata": {},
   "outputs": [
    {
     "name": "stdout",
     "output_type": "stream",
     "text": [
      "Fitting 4 folds for each of 1140 candidates, totalling 4560 fits\n"
     ]
    },
    {
     "name": "stderr",
     "output_type": "stream",
     "text": [
      "[Parallel(n_jobs=-1)]: Done 128 tasks      | elapsed:    2.6s\n",
      "[Parallel(n_jobs=-1)]: Done 488 tasks      | elapsed:   59.2s\n",
      "[Parallel(n_jobs=-1)]: Done 738 tasks      | elapsed:  2.4min\n",
      "[Parallel(n_jobs=-1)]: Done 1189 tasks      | elapsed:  4.7min\n",
      "[Parallel(n_jobs=-1)]: Done 1994 tasks      | elapsed:  7.7min\n",
      "[Parallel(n_jobs=-1)]: Done 2753 tasks      | elapsed: 11.1min\n",
      "[Parallel(n_jobs=-1)]: Done 3762 tasks      | elapsed: 15.2min\n",
      "[Parallel(n_jobs=-1)]: Done 4560 out of 4560 | elapsed: 17.5min finished\n"
     ]
    }
   ],
   "source": [
    "from sklearn.model_selection import GridSearchCV\n",
    "import warnings\n",
    "with warnings.catch_warnings():\n",
    "    warnings.simplefilter(\"ignore\")\n",
    "    \n",
    "    all_grid = GridSearchCV(pipe,\n",
    "                           param_grid=all_params,\n",
    "                           cv=4,\n",
    "                           verbose=1,\n",
    "                           n_jobs=-1,\n",
    "                           scoring='f1')\n",
    "    \n",
    "    all_grid.fit(train_features, train_labels)"
   ]
  },
  {
   "cell_type": "code",
   "execution_count": 83,
   "metadata": {
    "collapsed": true
   },
   "outputs": [],
   "source": [
    "grid_path = os.path.join(DATA_PATH, 'all_grid.pkl')\n",
    "\n",
    "with open(grid_path, 'wb') as f:\n",
    "    pickle.dump(all_grid, f)"
   ]
  },
  {
   "cell_type": "code",
   "execution_count": 76,
   "metadata": {
    "collapsed": true
   },
   "outputs": [],
   "source": [
    "def find_top_scores(grid, class_types, cutoff=5, cv=4, verbose=False):\n",
    "    \"\"\"\n",
    "    List the top scores from a fitted gridCV search\n",
    "    \n",
    "    returns list of tuples with (rank, estimator_label, test_scores, real index)\n",
    "    \"\"\"\n",
    "\n",
    "    grid_results = grid.cv_results_\n",
    "\n",
    "    score_keys = []\n",
    "    end_str = '_test_score'\n",
    "    start_str = 'split'\n",
    "    for num in range(cv):\n",
    "        complete_str = start_str+str(num)+end_str\n",
    "        score_keys.append(complete_str)\n",
    "\n",
    "    ranks = grid_results['rank_test_score']\n",
    "    names_scores = []\n",
    "    \n",
    "    for rank in range(1,cutoff+1):\n",
    "        \n",
    "        idx_list = np.where(ranks == rank)[0]\n",
    "        # More than one estimator can have the same rank\n",
    "        for i in idx_list:\n",
    "            estimator = grid_results['params'][i]['estimator']\n",
    "            for tup in class_types:\n",
    "                if isinstance(estimator, tup[0]):\n",
    "                    estimator_label = tup[1]\n",
    "            test_scores = []\n",
    "            for key in score_keys:\n",
    "                test_scores.append(grid_results[key][i])\n",
    "            \n",
    "            if verbose:\n",
    "                print(estimator_label)\n",
    "                print np.mean(test_scores), np.std(test_scores)\n",
    "            \n",
    "            names_scores.append((rank, estimator_label, test_scores, i))\n",
    "    \n",
    "    return names_scores"
   ]
  },
  {
   "cell_type": "code",
   "execution_count": 155,
   "metadata": {},
   "outputs": [],
   "source": [
    "class_types = [(SVC, 'SVC'), (AdaBoostClassifier, 'AdaBoost'), [LogisticRegression, 'LR']]\n",
    "top_scores = find_top_scores(all_grid, class_types, cutoff=100)"
   ]
  },
  {
   "cell_type": "code",
   "execution_count": 156,
   "metadata": {},
   "outputs": [
    {
     "data": {
      "text/plain": [
       "[(1, 'AdaBoost', [0.80000000000000004, 0.5, 0.5, 0.40000000000000002], 657),\n",
       " (2,\n",
       "  'AdaBoost',\n",
       "  [0.80000000000000004, 0.25, 0.66666666666666663, 0.40000000000000002],\n",
       "  659),\n",
       " (3,\n",
       "  'AdaBoost',\n",
       "  [0.80000000000000004, 0.5, 0.40000000000000002, 0.40000000000000002],\n",
       "  658),\n",
       " (4, 'AdaBoost', [0.80000000000000004, 0.25, 0.5, 0.5], 736),\n",
       " (5, 'AdaBoost', [0.66666666666666663, 0.25, 0.5, 0.5], 737),\n",
       " (6, 'AdaBoost', [0.57142857142857151, 0.5, 0.57142857142857151, 0.25], 584),\n",
       " (6, 'AdaBoost', [0.57142857142857151, 0.5, 0.57142857142857151, 0.25], 664),\n",
       " (6, 'AdaBoost', [0.57142857142857151, 0.5, 0.57142857142857151, 0.25], 744),\n",
       " (6, 'AdaBoost', [0.57142857142857151, 0.5, 0.57142857142857151, 0.25], 824),\n",
       " (6, 'AdaBoost', [0.57142857142857151, 0.5, 0.57142857142857151, 0.25], 904),\n",
       " (6, 'AdaBoost', [0.57142857142857151, 0.5, 0.57142857142857151, 0.25], 984),\n",
       " (12, 'AdaBoost', [0.66666666666666663, 0.22222222222222221, 0.5, 0.5], 738),\n",
       " (12, 'AdaBoost', [0.66666666666666663, 0.22222222222222221, 0.5, 0.5], 739),\n",
       " (14,\n",
       "  'AdaBoost',\n",
       "  [0.40000000000000002,\n",
       "   0.40000000000000002,\n",
       "   0.40000000000000002,\n",
       "   0.66666666666666663],\n",
       "  636),\n",
       " (14,\n",
       "  'AdaBoost',\n",
       "  [0.40000000000000002,\n",
       "   0.40000000000000002,\n",
       "   0.40000000000000002,\n",
       "   0.66666666666666663],\n",
       "  637),\n",
       " (14,\n",
       "  'AdaBoost',\n",
       "  [0.40000000000000002,\n",
       "   0.40000000000000002,\n",
       "   0.40000000000000002,\n",
       "   0.66666666666666663],\n",
       "  638),\n",
       " (14,\n",
       "  'AdaBoost',\n",
       "  [0.40000000000000002,\n",
       "   0.40000000000000002,\n",
       "   0.40000000000000002,\n",
       "   0.66666666666666663],\n",
       "  639),\n",
       " (18, 'SVC', [0.8571428571428571, 0.44444444444444442, 0.5, 0.0], 57),\n",
       " (18, 'SVC', [0.8571428571428571, 0.44444444444444442, 0.5, 0.0], 58),\n",
       " (18, 'SVC', [0.8571428571428571, 0.44444444444444442, 0.5, 0.0], 59),\n",
       " (21, 'AdaBoost', [0.80000000000000004, 0.5, 0.5, 0.0], 655),\n",
       " (22, 'AdaBoost', [0.5, 0.2857142857142857, 0.5, 0.5], 576),\n",
       " (22, 'AdaBoost', [0.5, 0.2857142857142857, 0.5, 0.5], 577),\n",
       " (22, 'AdaBoost', [0.5, 0.2857142857142857, 0.5, 0.5], 816),\n",
       " (22, 'AdaBoost', [0.5, 0.2857142857142857, 0.5, 0.5], 817),\n",
       " (22, 'AdaBoost', [0.5, 0.2857142857142857, 0.5, 0.5], 896),\n",
       " (22, 'AdaBoost', [0.5, 0.2857142857142857, 0.5, 0.5], 897),\n",
       " (22, 'AdaBoost', [0.5, 0.2857142857142857, 0.5, 0.5], 976),\n",
       " (22, 'AdaBoost', [0.5, 0.2857142857142857, 0.5, 0.5], 977),\n",
       " (30, 'AdaBoost', [0.5, 0.22222222222222221, 0.5, 0.5], 578),\n",
       " (30, 'AdaBoost', [0.5, 0.22222222222222221, 0.5, 0.5], 579),\n",
       " (30, 'AdaBoost', [0.5, 0.22222222222222221, 0.5, 0.5], 818),\n",
       " (30, 'AdaBoost', [0.5, 0.22222222222222221, 0.5, 0.5], 819),\n",
       " (30, 'AdaBoost', [0.5, 0.22222222222222221, 0.5, 0.5], 898),\n",
       " (30, 'AdaBoost', [0.5, 0.22222222222222221, 0.5, 0.5], 899),\n",
       " (30, 'AdaBoost', [0.5, 0.22222222222222221, 0.5, 0.5], 978),\n",
       " (30, 'AdaBoost', [0.5, 0.22222222222222221, 0.5, 0.5], 979),\n",
       " (38,\n",
       "  'AdaBoost',\n",
       "  [0.40000000000000002, 0.40000000000000002, 0.40000000000000002, 0.5],\n",
       "  620),\n",
       " (38,\n",
       "  'AdaBoost',\n",
       "  [0.40000000000000002, 0.40000000000000002, 0.40000000000000002, 0.5],\n",
       "  621),\n",
       " (38,\n",
       "  'AdaBoost',\n",
       "  [0.40000000000000002, 0.40000000000000002, 0.40000000000000002, 0.5],\n",
       "  622),\n",
       " (38,\n",
       "  'AdaBoost',\n",
       "  [0.40000000000000002, 0.40000000000000002, 0.40000000000000002, 0.5],\n",
       "  623),\n",
       " (42, 'AdaBoost', [0.5, 0.2857142857142857, 0.5, 0.40000000000000002], 656),\n",
       " (43,\n",
       "  'AdaBoost',\n",
       "  [0.375, 0.57142857142857151, 0.40000000000000002, 0.33333333333333337],\n",
       "  600),\n",
       " (43,\n",
       "  'AdaBoost',\n",
       "  [0.375, 0.57142857142857151, 0.40000000000000002, 0.33333333333333337],\n",
       "  680),\n",
       " (43,\n",
       "  'AdaBoost',\n",
       "  [0.375, 0.57142857142857151, 0.40000000000000002, 0.33333333333333337],\n",
       "  760),\n",
       " (43,\n",
       "  'AdaBoost',\n",
       "  [0.375, 0.57142857142857151, 0.40000000000000002, 0.33333333333333337],\n",
       "  840),\n",
       " (43,\n",
       "  'AdaBoost',\n",
       "  [0.375, 0.57142857142857151, 0.40000000000000002, 0.33333333333333337],\n",
       "  920),\n",
       " (43,\n",
       "  'AdaBoost',\n",
       "  [0.375, 0.57142857142857151, 0.40000000000000002, 0.33333333333333337],\n",
       "  1000),\n",
       " (49, 'SVC', [0.66666666666666663, 0.44444444444444442, 0.5, 0.0], 0),\n",
       " (49, 'SVC', [0.66666666666666663, 0.44444444444444442, 0.5, 0.0], 1),\n",
       " (49, 'SVC', [0.66666666666666663, 0.44444444444444442, 0.5, 0.0], 2),\n",
       " (49, 'SVC', [0.66666666666666663, 0.44444444444444442, 0.5, 0.0], 51),\n",
       " (49, 'SVC', [0.66666666666666663, 0.44444444444444442, 0.5, 0.0], 52),\n",
       " (49, 'SVC', [0.66666666666666663, 0.44444444444444442, 0.5, 0.0], 53),\n",
       " (49, 'AdaBoost', [0.66666666666666663, 0.44444444444444442, 0.5, 0.0], 183),\n",
       " (49, 'AdaBoost', [0.66666666666666663, 0.44444444444444442, 0.5, 0.0], 582),\n",
       " (49, 'AdaBoost', [0.66666666666666663, 0.44444444444444442, 0.5, 0.0], 583),\n",
       " (49, 'AdaBoost', [0.66666666666666663, 0.44444444444444442, 0.5, 0.0], 663),\n",
       " (49, 'AdaBoost', [0.66666666666666663, 0.44444444444444442, 0.5, 0.0], 678),\n",
       " (49, 'AdaBoost', [0.66666666666666663, 0.44444444444444442, 0.5, 0.0], 742),\n",
       " (49, 'AdaBoost', [0.66666666666666663, 0.44444444444444442, 0.5, 0.0], 743),\n",
       " (49, 'AdaBoost', [0.66666666666666663, 0.44444444444444442, 0.5, 0.0], 822),\n",
       " (49, 'AdaBoost', [0.66666666666666663, 0.44444444444444442, 0.5, 0.0], 823),\n",
       " (49, 'AdaBoost', [0.66666666666666663, 0.44444444444444442, 0.5, 0.0], 902),\n",
       " (49, 'AdaBoost', [0.66666666666666663, 0.44444444444444442, 0.5, 0.0], 903),\n",
       " (49, 'AdaBoost', [0.66666666666666663, 0.44444444444444442, 0.5, 0.0], 982),\n",
       " (49, 'AdaBoost', [0.66666666666666663, 0.44444444444444442, 0.5, 0.0], 983),\n",
       " (68,\n",
       "  'AdaBoost',\n",
       "  [0.40000000000000002, 0.36363636363636359, 0.5, 0.33333333333333331],\n",
       "  560),\n",
       " (68,\n",
       "  'AdaBoost',\n",
       "  [0.40000000000000002, 0.36363636363636359, 0.5, 0.33333333333333331],\n",
       "  561),\n",
       " (68,\n",
       "  'AdaBoost',\n",
       "  [0.40000000000000002, 0.36363636363636359, 0.5, 0.33333333333333331],\n",
       "  562),\n",
       " (68,\n",
       "  'AdaBoost',\n",
       "  [0.40000000000000002, 0.36363636363636359, 0.5, 0.33333333333333331],\n",
       "  563),\n",
       " (68,\n",
       "  'AdaBoost',\n",
       "  [0.40000000000000002, 0.36363636363636359, 0.5, 0.33333333333333331],\n",
       "  566),\n",
       " (68,\n",
       "  'AdaBoost',\n",
       "  [0.40000000000000002, 0.36363636363636359, 0.5, 0.33333333333333331],\n",
       "  567),\n",
       " (68,\n",
       "  'AdaBoost',\n",
       "  [0.40000000000000002, 0.36363636363636359, 0.5, 0.33333333333333331],\n",
       "  720),\n",
       " (68,\n",
       "  'AdaBoost',\n",
       "  [0.40000000000000002, 0.36363636363636359, 0.5, 0.33333333333333331],\n",
       "  721),\n",
       " (68,\n",
       "  'AdaBoost',\n",
       "  [0.40000000000000002, 0.36363636363636359, 0.5, 0.33333333333333331],\n",
       "  722),\n",
       " (68,\n",
       "  'AdaBoost',\n",
       "  [0.40000000000000002, 0.36363636363636359, 0.5, 0.33333333333333331],\n",
       "  723),\n",
       " (68,\n",
       "  'AdaBoost',\n",
       "  [0.40000000000000002, 0.36363636363636359, 0.5, 0.33333333333333331],\n",
       "  726),\n",
       " (68,\n",
       "  'AdaBoost',\n",
       "  [0.40000000000000002, 0.36363636363636359, 0.5, 0.33333333333333331],\n",
       "  727),\n",
       " (68,\n",
       "  'AdaBoost',\n",
       "  [0.40000000000000002, 0.36363636363636359, 0.5, 0.33333333333333331],\n",
       "  800),\n",
       " (68,\n",
       "  'AdaBoost',\n",
       "  [0.40000000000000002, 0.36363636363636359, 0.5, 0.33333333333333331],\n",
       "  801),\n",
       " (68,\n",
       "  'AdaBoost',\n",
       "  [0.40000000000000002, 0.36363636363636359, 0.5, 0.33333333333333331],\n",
       "  802),\n",
       " (68,\n",
       "  'AdaBoost',\n",
       "  [0.40000000000000002, 0.36363636363636359, 0.5, 0.33333333333333331],\n",
       "  803),\n",
       " (68,\n",
       "  'AdaBoost',\n",
       "  [0.40000000000000002, 0.36363636363636359, 0.5, 0.33333333333333331],\n",
       "  806),\n",
       " (68,\n",
       "  'AdaBoost',\n",
       "  [0.40000000000000002, 0.36363636363636359, 0.5, 0.33333333333333331],\n",
       "  807),\n",
       " (68,\n",
       "  'AdaBoost',\n",
       "  [0.40000000000000002, 0.36363636363636359, 0.5, 0.33333333333333331],\n",
       "  880),\n",
       " (68,\n",
       "  'AdaBoost',\n",
       "  [0.40000000000000002, 0.36363636363636359, 0.5, 0.33333333333333331],\n",
       "  881),\n",
       " (68,\n",
       "  'AdaBoost',\n",
       "  [0.40000000000000002, 0.36363636363636359, 0.5, 0.33333333333333331],\n",
       "  882),\n",
       " (68,\n",
       "  'AdaBoost',\n",
       "  [0.40000000000000002, 0.36363636363636359, 0.5, 0.33333333333333331],\n",
       "  883),\n",
       " (68,\n",
       "  'AdaBoost',\n",
       "  [0.40000000000000002, 0.36363636363636359, 0.5, 0.33333333333333331],\n",
       "  886),\n",
       " (68,\n",
       "  'AdaBoost',\n",
       "  [0.40000000000000002, 0.36363636363636359, 0.5, 0.33333333333333331],\n",
       "  887),\n",
       " (68,\n",
       "  'AdaBoost',\n",
       "  [0.40000000000000002, 0.36363636363636359, 0.5, 0.33333333333333331],\n",
       "  960),\n",
       " (68,\n",
       "  'AdaBoost',\n",
       "  [0.40000000000000002, 0.36363636363636359, 0.5, 0.33333333333333331],\n",
       "  961),\n",
       " (68,\n",
       "  'AdaBoost',\n",
       "  [0.40000000000000002, 0.36363636363636359, 0.5, 0.33333333333333331],\n",
       "  962),\n",
       " (68,\n",
       "  'AdaBoost',\n",
       "  [0.40000000000000002, 0.36363636363636359, 0.5, 0.33333333333333331],\n",
       "  963),\n",
       " (68,\n",
       "  'AdaBoost',\n",
       "  [0.40000000000000002, 0.36363636363636359, 0.5, 0.33333333333333331],\n",
       "  966),\n",
       " (68,\n",
       "  'AdaBoost',\n",
       "  [0.40000000000000002, 0.36363636363636359, 0.5, 0.33333333333333331],\n",
       "  967),\n",
       " (98, 'AdaBoost', [0.80000000000000004, 0.2857142857142857, 0.5, 0.0], 256),\n",
       " (98, 'AdaBoost', [0.80000000000000004, 0.2857142857142857, 0.5, 0.0], 590),\n",
       " (98, 'AdaBoost', [0.80000000000000004, 0.2857142857142857, 0.5, 0.0], 669),\n",
       " (98, 'AdaBoost', [0.80000000000000004, 0.2857142857142857, 0.5, 0.0], 670),\n",
       " (98, 'AdaBoost', [0.80000000000000004, 0.2857142857142857, 0.5, 0.0], 750),\n",
       " (98, 'AdaBoost', [0.80000000000000004, 0.2857142857142857, 0.5, 0.0], 830),\n",
       " (98, 'AdaBoost', [0.80000000000000004, 0.2857142857142857, 0.5, 0.0], 910),\n",
       " (98, 'AdaBoost', [0.80000000000000004, 0.2857142857142857, 0.5, 0.0], 990)]"
      ]
     },
     "execution_count": 156,
     "metadata": {},
     "output_type": "execute_result"
    }
   ],
   "source": [
    "top_scores"
   ]
  },
  {
   "cell_type": "code",
   "execution_count": 167,
   "metadata": {
    "collapsed": true
   },
   "outputs": [],
   "source": [
    "import matplotlib.patches as mpatches\n",
    "\n",
    "def plot_scores(score_list):\n",
    "    \"\"\"\n",
    "    plots scores from score_list generated by find_top_scores\n",
    "    \n",
    "    score_list should be a list of tuples in the form:\n",
    "    tup[0] = rank\n",
    "    tup[1] = estimator label string\n",
    "    tup[2] = list of scores\n",
    "    tup[3] = real_index\n",
    "    \"\"\"\n",
    "    \n",
    "    ranks = [tup[0] for tup in score_list]\n",
    "    labels = [tup[1] for tup in score_list]\n",
    "    scores = [tup[2] for tup in score_list]\n",
    "    means = [np.mean(x) for x in scores]\n",
    "    deltas = [t_delta(95, x) for x in scores]\n",
    "    \n",
    "    plt.close('all')\n",
    "    ind = len(score_list)\n",
    "    fig = plt.figure(1, figsize=(10, 7), tight_layout=True)\n",
    "    ax = fig.gca(title='Estimator scores',\n",
    "                 xlabel='Rank',\n",
    "                 xlim=[-1, ind],\n",
    "                 xticks=range(ind),\n",
    "                 ylabel='average score')\n",
    "    bar_list = ax.bar(range(ind), means, yerr=deltas, align='center')\n",
    "    ax.set_xticklabels(ranks)\n",
    "    ax.hlines(0.3, ax.get_xlim()[0], ax.get_xlim()[1], linestyles='dashed', colors='r')\n",
    "    # color bar based on label selected features red\n",
    "    color_dict = {'AdaBoost': 'b',\n",
    "                  'ExtraTrees': 'r',\n",
    "                  'SVC': 'g',\n",
    "                  'LR': 'm'}\n",
    "    for i, name in enumerate(labels):\n",
    "        bar_list[i].set_color(color_dict[name])\n",
    "        \n",
    "    # create custom legend\n",
    "    blue_patch = mpatches.Patch(color='blue', label='Adaboost')\n",
    "    red_patch = mpatches.Patch(color='red', label='ExtraTrees')\n",
    "    green_patch = mpatches.Patch(color='green', label='SVC')\n",
    "    magenta_patch = mpatches.Patch(color='magenta', label='LR')\n",
    "    plt.legend(handles=[blue_patch, red_patch, green_patch, magenta_patch])\n",
    "    plt.show()"
   ]
  },
  {
   "cell_type": "code",
   "execution_count": 168,
   "metadata": {},
   "outputs": [
    {
     "data": {
      "image/png": "[encoded data removed]",
      "text/plain": [
       "<matplotlib.figure.Figure at 0x14207d090>"
      ]
     },
     "metadata": {},
     "output_type": "display_data"
    }
   ],
   "source": [
    "plot_scores(top_scores)"
   ]
  },
  {
   "cell_type": "code",
   "execution_count": 92,
   "metadata": {
    "collapsed": true
   },
   "outputs": [],
   "source": [
    "from scipy.stats import variation\n",
    "\n",
    "def rank_by_cv(score_list):\n",
    "    \"\"\"\n",
    "    sorts score list by coefficient of variation\n",
    "    \n",
    "    score_list should be a list of tuples in the form:\n",
    "    tup[0] = rank\n",
    "    tup[1] = estimator label string\n",
    "    tup[2] = list of scores\n",
    "    tup[3] = real_index\n",
    "    \"\"\"\n",
    "    ranks = [tup[0] for tup in score_list]\n",
    "    labels = [tup[1] for tup in score_list]\n",
    "    scores = [tup[2] for tup in score_list]\n",
    "    real_is = [tup[3] for tup in score_list]\n",
    "    cvs = [variation(score) for score in scores]\n",
    "    \n",
    "    all_list = zip(ranks, labels, scores, real_is, cvs)\n",
    "    \n",
    "    all_list = sorted(all_list, key=lambda tup: tup[4])\n",
    "    all_list = [tup[:4] for tup in all_list]\n",
    "    \n",
    "    return all_list"
   ]
  },
  {
   "cell_type": "code",
   "execution_count": 99,
   "metadata": {},
   "outputs": [
    {
     "data": {
      "text/plain": [
       "(1,\n",
       " 'AdaBoost',\n",
       " [0.28571428571428575,\n",
       "  0.40000000000000002,\n",
       "  0.57142857142857151,\n",
       "  0.57142857142857151,\n",
       "  0.5],\n",
       " 238)"
      ]
     },
     "execution_count": 99,
     "metadata": {},
     "output_type": "execute_result"
    }
   ],
   "source": [
    "top200[0]"
   ]
  },
  {
   "cell_type": "code",
   "execution_count": 100,
   "metadata": {
    "collapsed": true,
    "scrolled": true
   },
   "outputs": [],
   "source": [
    "top200_cv = rank_by_cv(top200)"
   ]
  },
  {
   "cell_type": "code",
   "execution_count": 101,
   "metadata": {},
   "outputs": [
    {
     "data": {
      "image/png": "[encoded data removed]",
      "text/plain": [
       "<matplotlib.figure.Figure at 0x1246c9410>"
      ]
     },
     "metadata": {},
     "output_type": "display_data"
    }
   ],
   "source": [
    "plot_scores(top200_cv)"
   ]
  },
  {
   "cell_type": "code",
   "execution_count": 103,
   "metadata": {},
   "outputs": [
    {
     "data": {
      "text/plain": [
       "[(29,\n",
       "  'ExtraTrees',\n",
       "  [0.44444444444444448,\n",
       "   0.40000000000000002,\n",
       "   0.44444444444444442,\n",
       "   0.28571428571428575,\n",
       "   0.40000000000000002],\n",
       "  1336),\n",
       " (175,\n",
       "  'AdaBoost',\n",
       "  [0.25,\n",
       "   0.40000000000000002,\n",
       "   0.36363636363636365,\n",
       "   0.28571428571428575,\n",
       "   0.33333333333333337],\n",
       "  313),\n",
       " (35,\n",
       "  'ExtraTrees',\n",
       "  [0.44444444444444448,\n",
       "   0.40000000000000002,\n",
       "   0.44444444444444442,\n",
       "   0.28571428571428575,\n",
       "   0.33333333333333331],\n",
       "  976),\n",
       " (35,\n",
       "  'ExtraTrees',\n",
       "  [0.44444444444444448,\n",
       "   0.40000000000000002,\n",
       "   0.44444444444444442,\n",
       "   0.28571428571428575,\n",
       "   0.33333333333333331],\n",
       "  1516),\n",
       " (35,\n",
       "  'ExtraTrees',\n",
       "  [0.44444444444444448,\n",
       "   0.40000000000000002,\n",
       "   0.44444444444444442,\n",
       "   0.28571428571428575,\n",
       "   0.33333333333333331],\n",
       "  1696)]"
      ]
     },
     "execution_count": 103,
     "metadata": {},
     "output_type": "execute_result"
    }
   ],
   "source": [
    "top200_cv[:5]"
   ]
  },
  {
   "cell_type": "code",
   "execution_count": 108,
   "metadata": {
    "collapsed": true
   },
   "outputs": [],
   "source": [
    "idxs = [0, 2, 3, 4]\n",
    "param_is = [top200_cv[i][3] for i in idxs]\n",
    "params = [large_grid.cv_results_['params'][i] for i in param_is]"
   ]
  },
  {
   "cell_type": "code",
   "execution_count": 122,
   "metadata": {},
   "outputs": [
    {
     "name": "stdout",
     "output_type": "stream",
     "text": [
      "\n",
      "estimator__min_samples_leaf\n",
      "4 4 4 4\n",
      "polynomials__degree\n",
      "2 2 2 2\n",
      "estimator__max_features\n",
      "1 1 1 1\n",
      "warm_start\n",
      "False False False False\n",
      "oob_score\n",
      "False False False False\n",
      "n_jobs\n",
      "1 1 1 1\n",
      "verbose\n",
      "0 0 0 0\n",
      "max_leaf_nodes\n",
      "None None None None\n",
      "bootstrap\n",
      "False False False False\n",
      "min_samples_leaf\n",
      "4 4 4 4\n",
      "n_estimators\n",
      "100 100 100 100\n",
      "min_samples_split\n",
      "2 2 2 2\n",
      "min_weight_fraction_leaf\n",
      "0.0 0.0 0.0 0.0\n",
      "criterion\n",
      "gini gini gini gini\n",
      "random_state\n",
      "42 42 42 42\n",
      "min_impurity_split\n",
      "1e-07 1e-07 1e-07 1e-07\n",
      "max_features\n",
      "1 1 1 1\n",
      "max_depth\n",
      "6 None 12 24\n",
      "class_weight\n",
      "balanced balanced balanced balanced\n",
      "estimator__max_depth\n",
      "6 None 12 24\n",
      "estimator__n_estimators\n",
      "100 100 100 100\n"
     ]
    }
   ],
   "source": [
    "top_keys = params[0].keys()\n",
    "est_keys = params[0]['estimator'].get_params().keys()\n",
    "for key in top_keys:\n",
    "    if key != 'estimator':\n",
    "        print\n",
    "        print key\n",
    "        for item in params:\n",
    "            print item[key],\n",
    "    else:\n",
    "        for key in est_keys:\n",
    "            print\n",
    "            print key\n",
    "            for item in params:\n",
    "                print item['estimator'].get_params()[key],"
   ]
  },
  {
   "cell_type": "markdown",
   "metadata": {},
   "source": [
    "The only parameter changing is `estimator__max_depth` and in that one 6, 12, and 24 seem to give the same result (based on scores reported two cell up). I will pursue the 1st one:"
   ]
  },
  {
   "cell_type": "code",
   "execution_count": 124,
   "metadata": {},
   "outputs": [
    {
     "data": {
      "text/plain": [
       "1336"
      ]
     },
     "execution_count": 124,
     "metadata": {},
     "output_type": "execute_result"
    }
   ],
   "source": [
    "param_is[0]"
   ]
  },
  {
   "cell_type": "code",
   "execution_count": 125,
   "metadata": {
    "collapsed": true
   },
   "outputs": [],
   "source": [
    "params_to_test = large_grid.cv_results_['params'][1336]"
   ]
  },
  {
   "cell_type": "code",
   "execution_count": 126,
   "metadata": {
    "collapsed": true
   },
   "outputs": [],
   "source": [
    "with open('testing_params.pickle', 'wb') as f:\n",
    "    pickle.dump(params_to_test, f)"
   ]
  }
 ],
 "metadata": {
  "kernelspec": {
   "display_name": "Python 2",
   "language": "python",
   "name": "python2"
  },
  "language_info": {
   "codemirror_mode": {
    "name": "ipython",
    "version": 2
   },
   "file_extension": ".py",
   "mimetype": "text/x-python",
   "name": "python",
   "nbconvert_exporter": "python",
   "pygments_lexer": "ipython2",
   "version": "2.7.13"
  }
 },
 "nbformat": 4,
 "nbformat_minor": 2
}
