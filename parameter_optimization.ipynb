{
 "cells": [
  {
   "cell_type": "markdown",
   "metadata": {},
   "source": [
    "# Parameter optimization"
   ]
  },
  {
   "cell_type": "markdown",
   "metadata": {
    "collapsed": true
   },
   "source": [
    "### Get the data already preprocessed\n",
    "\n",
    "- `poly_data` and `poly_names` from [polynomial_features](polynomial_features.ipynb)\n",
    "- `vector_data` and `vector_names` from [save_email_features](save_email_features.ipynb)"
   ]
  },
  {
   "cell_type": "code",
   "execution_count": 1,
   "metadata": {
    "collapsed": true
   },
   "outputs": [],
   "source": [
    "import numpy as np\n",
    "import matplotlib.pyplot as plt\n",
    "import os\n",
    "import pickle\n",
    "\n",
    "HOME_PATH = os.path.expanduser('~')\n",
    "DATA_PATH = os.path.join(HOME_PATH, 'Desktop', 'raw_data', 'ml')\n",
    "\n",
    "poly_path = os.path.join(DATA_PATH, 'poly_data.pkl')\n",
    "poly_names_path = os.path.join(DATA_PATH, 'poly_names.pkl')\n",
    "with open(poly_path, 'rb') as f:\n",
    "    poly_data = pickle.load(f)\n",
    "with open(poly_names_path, 'rb') as f:\n",
    "    poly_names = pickle.load(f)\n",
    "    \n",
    "vector_path = os.path.join(DATA_PATH, 'vector_data.pkl')\n",
    "vector_names_path = os.path.join(DATA_PATH, 'vector_names.pkl')\n",
    "\n",
    "with open(vector_path, 'rb') as f:\n",
    "    vector_data = pickle.load(f)\n",
    "with open(vector_names_path, 'rb') as f:\n",
    "    vector_names = pickle.load(f)"
   ]
  },
  {
   "cell_type": "markdown",
   "metadata": {},
   "source": [
    "Merge dictionaries and feature lists"
   ]
  },
  {
   "cell_type": "code",
   "execution_count": 2,
   "metadata": {},
   "outputs": [
    {
     "name": "stdout",
     "output_type": "stream",
     "text": [
      "inner keys: 4290 compare: 4290\n"
     ]
    }
   ],
   "source": [
    "from copy import deepcopy\n",
    "final_data = deepcopy(poly_data)\n",
    "for key, item in final_data.items():\n",
    "    item.update(vector_data[key])\n",
    "    \n",
    "print 'inner keys:', len(final_data['METTS MARK'].keys()),\\\n",
    "      'compare:', len(vector_data['METTS MARK'].keys()) +\\\n",
    "      len(poly_data['METTS MARK'].keys()) - 1"
   ]
  },
  {
   "cell_type": "code",
   "execution_count": 3,
   "metadata": {},
   "outputs": [
    {
     "name": "stdout",
     "output_type": "stream",
     "text": [
      "inner keys: 4290 compare: 4290\n",
      "Features: 4290 compare: 4290\n"
     ]
    }
   ],
   "source": [
    "from copy import deepcopy\n",
    "final_data = deepcopy(poly_data)\n",
    "for key, item in final_data.items():\n",
    "    item.update(vector_data[key])\n",
    "    \n",
    "print 'inner keys:', len(final_data['METTS MARK'].keys()),\\\n",
    "      'compare:', len(vector_data['METTS MARK'].keys()) +\\\n",
    "                  len(poly_data['METTS MARK'].keys()) - 1\n",
    "\n",
    "vector_names.remove('poi')\n",
    "final_names = poly_names + vector_names\n",
    "print 'Features:', len(final_names), 'compare:', len(final_data['METTS MARK'].keys())"
   ]
  },
  {
   "cell_type": "markdown",
   "metadata": {},
   "source": [
    "Convert data to a usable array"
   ]
  },
  {
   "cell_type": "code",
   "execution_count": 23,
   "metadata": {},
   "outputs": [
    {
     "name": "stdout",
     "output_type": "stream",
     "text": [
      "Keys, labels, features shapes: (148,) (148,) (148, 4289)\n"
     ]
    }
   ],
   "source": [
    "from tools.feature_format import featureFormat\n",
    "\n",
    "array = featureFormat(final_data, final_names,\n",
    "                      keep_keys=True, remove_NaN=True, remove_all_zeroes=False)\n",
    "keys, labels, features =\\\n",
    "        array[:,0], array[:,1].astype(np.float16), array[:, 2:].astype(np.float32)\n",
    "\n",
    "print 'Keys, labels, features shapes:', keys.shape, labels.shape, features.shape"
   ]
  },
  {
   "cell_type": "code",
   "execution_count": 5,
   "metadata": {
    "collapsed": true
   },
   "outputs": [],
   "source": [
    "from sklearn.model_selection import train_test_split\n",
    "\n",
    "train_features, test_features, train_labels, test_labels =\\\n",
    "train_test_split(features, labels, test_size=0.4, random_state=42)"
   ]
  },
  {
   "cell_type": "markdown",
   "metadata": {},
   "source": [
    "### Test on different classifiers"
   ]
  },
  {
   "cell_type": "code",
   "execution_count": 7,
   "metadata": {
    "collapsed": true
   },
   "outputs": [],
   "source": [
    "#Scoring function\n",
    "from sklearn.model_selection import cross_val_score, StratifiedKFold\n",
    "from sklearn.metrics import classification_report\n",
    "import scipy.stats as st\n",
    "\n",
    "def t_delta(percent, scores):\n",
    "    \"\"\"\n",
    "    Returns the size of a t-test error bar that defines a given percent confidence \n",
    "    \"\"\"\n",
    "    mean, sem = np.mean(scores), st.sem(scores)\n",
    "    interval = st.t.interval(percent/float(100), len(scores)-1, loc=mean, scale=sem)\n",
    "    delta = mean - interval[0]\n",
    "    return delta\n",
    "\n",
    "\n",
    "def scores(clf, features, labels, printout=False):\n",
    "    title = str(type(clf))\n",
    "    title = title.split('.')[-1][:-2]\n",
    "    \n",
    "    if printout:\n",
    "        print '%s:\\n' % title\n",
    "    \n",
    "    summary_dict = {title: {}}\n",
    "    \n",
    "    cv = StratifiedKFold(n_splits=3, shuffle=True, random_state=41)\n",
    "    \n",
    "    for scoring in ['recall', 'precision', 'f1']:\n",
    "        scores = cross_val_score(clf, features, labels, cv=cv, scoring=scoring)\n",
    "        mean =  np.mean(scores)\n",
    "        # t-test 95% confidence interval\n",
    "        delta = t_delta(95, scores)\n",
    "        \n",
    "        summary_dict[title][scoring] = (mean, delta)\n",
    "        \n",
    "        if printout:\n",
    "            print '-', scoring, scores\n",
    "            print 'Mean: %0.2f (+/-%0.2f)' % (mean, delta)\n",
    "    \n",
    "    return summary_dict"
   ]
  },
  {
   "cell_type": "code",
   "execution_count": 9,
   "metadata": {},
   "outputs": [
    {
     "name": "stdout",
     "output_type": "stream",
     "text": [
      "GaussianNB:\n",
      "\n",
      "- recall [ 0.25        0.14285714  0.28571429]\n",
      "Mean: 0.23 (+/-0.18)\n",
      "- precision [ 0.4  1.   1. ]\n",
      "Mean: 0.80 (+/-0.86)\n",
      "- f1 [ 0.30769231  0.25        0.44444444]\n",
      "Mean: 0.33 (+/-0.25)\n"
     ]
    }
   ],
   "source": [
    "from sklearn.naive_bayes import GaussianNB\n",
    "\n",
    "clf = GaussianNB()\n",
    "nb_scores = scores(clf, features, labels, printout=True)"
   ]
  },
  {
   "cell_type": "code",
   "execution_count": 11,
   "metadata": {},
   "outputs": [
    {
     "name": "stderr",
     "output_type": "stream",
     "text": [
      "/Users/TRN/anaconda/envs/ml27/lib/python2.7/site-packages/sklearn/metrics/classification.py:1113: UndefinedMetricWarning: Precision is ill-defined and being set to 0.0 due to no predicted samples.\n",
      "  'precision', 'predicted', average, warn_for)\n",
      "/Users/TRN/anaconda/envs/ml27/lib/python2.7/site-packages/sklearn/metrics/classification.py:1113: UndefinedMetricWarning: F-score is ill-defined and being set to 0.0 due to no predicted samples.\n",
      "  'precision', 'predicted', average, warn_for)\n",
      "/Users/TRN/anaconda/envs/ml27/lib/python2.7/site-packages/scipy/stats/_distn_infrastructure.py:1907: RuntimeWarning: invalid value encountered in multiply\n",
      "  lower_bound = self.a * scale + loc\n",
      "/Users/TRN/anaconda/envs/ml27/lib/python2.7/site-packages/scipy/stats/_distn_infrastructure.py:1908: RuntimeWarning: invalid value encountered in multiply\n",
      "  upper_bound = self.b * scale + loc\n"
     ]
    }
   ],
   "source": [
    "### Try a variety of classifiers\n",
    "from sklearn.svm import SVC \n",
    "from sklearn.ensemble import RandomForestClassifier, ExtraTreesClassifier, AdaBoostClassifier\n",
    "from sklearn.linear_model import LogisticRegression\n",
    "\n",
    "clfs = [SVC(), \n",
    "        AdaBoostClassifier(),\n",
    "        ExtraTreesClassifier(),\n",
    "        RandomForestClassifier(),\n",
    "        LogisticRegression()]\n",
    "\n",
    "scores_list = []\n",
    "for clf in clfs:\n",
    "    title = str(type(clf))\n",
    "    title = title.split('.')[-1][:-2]\n",
    "    scores_list.append(scores(clf, train_features, train_labels))"
   ]
  },
  {
   "cell_type": "code",
   "execution_count": 22,
   "metadata": {},
   "outputs": [
    {
     "data": {
      "image/png": "[encoded data removed]",
      "text/plain": [
       "<matplotlib.figure.Figure at 0x13adbe850>"
      ]
     },
     "metadata": {},
     "output_type": "display_data"
    },
    {
     "name": "stdout",
     "output_type": "stream",
     "text": [
      "\n"
     ]
    }
   ],
   "source": [
    "clfs = []\n",
    "f1s = []\n",
    "precisions = []\n",
    "recalls = []\n",
    "\n",
    "for dicto in scores_list:\n",
    "    key, item = dicto.items()[0]\n",
    "    clfs.append(key)\n",
    "    f1s.append(item['f1'])\n",
    "    precisions.append(item['precision'])\n",
    "    recalls.append(item['recall'])\n",
    "\n",
    "score_list = ['f1', 'precision', 'recall']\n",
    "values = [f1s, precisions, recalls]\n",
    "colors = ['#EE3224', '#F78F1E', '#FFC222']\n",
    "\n",
    "pos = list(range(len(clfs)))\n",
    "width = 0.25\n",
    "\n",
    "plt.close('all')\n",
    "fig, ax = plt.subplots(figsize=(10,7))\n",
    "for i, value in enumerate(values):\n",
    "    means, stds = zip(*value)\n",
    "    plt.bar([p + width*i for p in pos],\n",
    "            means,\n",
    "            width,\n",
    "            yerr=stds,\n",
    "            alpha=0.5,\n",
    "            color=colors[i],\n",
    "            label=score_list[i])\n",
    "\n",
    "ax.set_ylabel('Score')\n",
    "ax.set_title('Unoptimized algorithm scores')\n",
    "ax.set_xticks([p + width for p in pos])\n",
    "ax.set_xticklabels(clfs, rotation=45, horizontalalignment='right')\n",
    "plt.xlim(min(pos)-width, max(pos)+width*4)\n",
    "\n",
    "ax.hlines(0.3, ax.get_xlim()[0], ax.get_xlim()[1], linestyles='dashed', colors='r')\n",
    "\n",
    "plt.legend(loc='upper right')\n",
    "plt.grid()\n",
    "plt.show()"
   ]
  },
  {
   "cell_type": "code",
   "execution_count": 25,
   "metadata": {
    "collapsed": true
   },
   "outputs": [],
   "source": [
    "from sklearn.tree import DecisionTreeClassifier\n",
    "from sklearn.pipeline import Pipeline \n",
    "\n",
    "pipe = Pipeline(steps=[('estimator', None)])\n",
    "\n",
    "SV = SVC(random_state=42)\n",
    "SV_params = {'estimator': [SV],\n",
    "             'estimator__C': [1e-2, 1e-1, 1, 1e1, 1e2],\n",
    "             'estimator__kernel': ['linear', 'rbf'],\n",
    "             'estimator__tol': [1e-4, 5e-4, 1e-3],\n",
    "             'estimator__class_weight': [None, 'balanced']}\n",
    "\n",
    "DTC = DecisionTreeClassifier(random_state=42)\n",
    "ABC = AdaBoostClassifier(base_estimator=DTC, random_state=42)\n",
    "ABC_params = {'estimator': [ABC],\n",
    "              'estimator__base_estimator__max_depth': [None, 3, 6, 12, 24, 48],\n",
    "              'estimator__base_estimator__min_samples_leaf': [1, 2, 4, 8, 16],\n",
    "              'estimator__base_estimator__class_weight': [None, 'balanced'],\n",
    "              'estimator__n_estimators': [25, 50, 100, 250],\n",
    "              'estimator__learning_rate': [0.01, 0.1, 1, 10]}\n",
    "\n",
    "LR = LogisticRegression(solver='lbfgs')\n",
    "LR_params = {'estimator': [LR],\n",
    "             'estimator__C': [1e-2, 1e-1, 1, 1e1, 1e2],\n",
    "             'estimator__class_weight': [None, 'balanced'],\n",
    "             'estimator__max_iter': [100, 200],\n",
    "             'estimator__tol': [1e-4, 5e-4, 1e-3],\n",
    "             'estimator__warm_start': [False, True]}\n",
    "\n",
    "all_params = [SV_params, ABC_params, LR_params]"
   ]
  },
  {
   "cell_type": "code",
   "execution_count": 82,
   "metadata": {},
   "outputs": [
    {
     "name": "stdout",
     "output_type": "stream",
     "text": [
      "Fitting 4 folds for each of 1140 candidates, totalling 4560 fits\n"
     ]
    },
    {
     "name": "stderr",
     "output_type": "stream",
     "text": [
      "[Parallel(n_jobs=-1)]: Done 128 tasks      | elapsed:    2.6s\n",
      "[Parallel(n_jobs=-1)]: Done 488 tasks      | elapsed:   59.2s\n",
      "[Parallel(n_jobs=-1)]: Done 738 tasks      | elapsed:  2.4min\n",
      "[Parallel(n_jobs=-1)]: Done 1189 tasks      | elapsed:  4.7min\n",
      "[Parallel(n_jobs=-1)]: Done 1994 tasks      | elapsed:  7.7min\n",
      "[Parallel(n_jobs=-1)]: Done 2753 tasks      | elapsed: 11.1min\n",
      "[Parallel(n_jobs=-1)]: Done 3762 tasks      | elapsed: 15.2min\n",
      "[Parallel(n_jobs=-1)]: Done 4560 out of 4560 | elapsed: 17.5min finished\n"
     ]
    }
   ],
   "source": [
    "from sklearn.model_selection import GridSearchCV\n",
    "import warnings\n",
    "with warnings.catch_warnings():\n",
    "    warnings.simplefilter(\"ignore\")\n",
    "    \n",
    "    all_grid = GridSearchCV(pipe,\n",
    "                           param_grid=all_params,\n",
    "                           cv=4,\n",
    "                           verbose=1,\n",
    "                           n_jobs=-1,\n",
    "                           scoring='f1')\n",
    "    \n",
    "    all_grid.fit(train_features, train_labels)"
   ]
  },
  {
   "cell_type": "code",
   "execution_count": 184,
   "metadata": {},
   "outputs": [],
   "source": [
    "grid_path = os.path.join(DATA_PATH, 'all_grid.pkl')\n",
    "\n",
    "with open(grid_path, 'wb') as f:\n",
    "    pickle.dump(all_grid, f, protocol=pickle.HIGHEST_PROTOCOL)"
   ]
  },
  {
   "cell_type": "code",
   "execution_count": 87,
   "metadata": {
    "collapsed": true
   },
   "outputs": [],
   "source": [
    "def find_top_scores(grid, class_types, cutoff=5, cv=4, verbose=False):\n",
    "    \"\"\"\n",
    "    List the top scores from a fitted gridCV search\n",
    "    \n",
    "    returns list of tuples with (rank, estimator_label, test_scores, real index)\n",
    "    \"\"\"\n",
    "\n",
    "    grid_results = grid.cv_results_\n",
    "\n",
    "    score_keys = []\n",
    "    end_str = '_test_score'\n",
    "    start_str = 'split'\n",
    "    for num in range(cv):\n",
    "        complete_str = start_str+str(num)+end_str\n",
    "        score_keys.append(complete_str)\n",
    "\n",
    "    ranks = grid_results['rank_test_score']\n",
    "    names_scores = []\n",
    "    \n",
    "    for rank in range(1,cutoff+1):\n",
    "        \n",
    "        idx_list = np.where(ranks == rank)[0]\n",
    "        # More than one estimator can have the same rank\n",
    "        for i in idx_list:\n",
    "            try:\n",
    "                estimator = grid_results['params'][i]['estimator']\n",
    "            except KeyError:\n",
    "                estimator = class_types[0][0]()\n",
    "            \n",
    "            for tup in class_types:\n",
    "                if isinstance(estimator, tup[0]):\n",
    "                    estimator_label = tup[1]\n",
    "           \n",
    "            test_scores = []\n",
    "            for key in score_keys:\n",
    "                test_scores.append(grid_results[key][i])\n",
    "            \n",
    "            if verbose:\n",
    "                print(estimator_label)\n",
    "                print np.mean(test_scores), np.std(test_scores)\n",
    "            \n",
    "            names_scores.append((rank, estimator_label, test_scores, i))\n",
    "    \n",
    "    return names_scores"
   ]
  },
  {
   "cell_type": "code",
   "execution_count": 31,
   "metadata": {},
   "outputs": [],
   "source": [
    "class_types = [(SVC, 'SVC'), (AdaBoostClassifier, 'AdaBoost'), [LogisticRegression, 'LR']]\n",
    "top_scores = find_top_scores(all_grid, class_types, cutoff=250)"
   ]
  },
  {
   "cell_type": "code",
   "execution_count": 33,
   "metadata": {
    "collapsed": true
   },
   "outputs": [],
   "source": [
    "import matplotlib.patches as mpatches\n",
    "\n",
    "def plot_scores(score_list):\n",
    "    \"\"\"\n",
    "    plots scores from score_list generated by find_top_scores\n",
    "    \n",
    "    score_list should be a list of tuples in the form:\n",
    "    tup[0] = rank\n",
    "    tup[1] = estimator label string\n",
    "    tup[2] = list of scores\n",
    "    tup[3] = real_index\n",
    "    \"\"\"\n",
    "    \n",
    "    ranks = [tup[0] for tup in score_list]\n",
    "    labels = [tup[1] for tup in score_list]\n",
    "    scores = [tup[2] for tup in score_list]\n",
    "    means = [np.mean(x) for x in scores]\n",
    "    deltas = [t_delta(95, x) for x in scores]\n",
    "    \n",
    "    plt.close('all')\n",
    "    ind = len(score_list)\n",
    "    fig = plt.figure(1, figsize=(10, 7), tight_layout=True)\n",
    "    ax = fig.gca(title='Estimator scores',\n",
    "                 xlabel='Rank',\n",
    "                 xlim=[-1, ind],\n",
    "                 xticks=range(ind),\n",
    "                 ylabel='average score')\n",
    "    bar_list = ax.bar(range(ind), means, yerr=deltas, align='center')\n",
    "    ax.set_xticklabels(ranks)\n",
    "    ax.hlines(0.3, ax.get_xlim()[0], ax.get_xlim()[1], linestyles='dashed', colors='r')\n",
    "    # color bar based on label selected features red\n",
    "    color_dict = {'AdaBoost': 'b',\n",
    "                  'SVC': 'g',\n",
    "                  'LR': 'm'}\n",
    "    for i, name in enumerate(labels):\n",
    "        bar_list[i].set_color(color_dict[name])\n",
    "        \n",
    "    # create custom legend\n",
    "    blue_patch = mpatches.Patch(color='blue', label='Adaboost')\n",
    "    green_patch = mpatches.Patch(color='green', label='SVC')\n",
    "    magenta_patch = mpatches.Patch(color='magenta', label='LR')\n",
    "    plt.legend(handles=[blue_patch, green_patch, magenta_patch])\n",
    "    plt.show()"
   ]
  },
  {
   "cell_type": "code",
   "execution_count": 34,
   "metadata": {},
   "outputs": [
    {
     "name": "stderr",
     "output_type": "stream",
     "text": [
      "/Users/TRN/anaconda/envs/ml27/lib/python2.7/site-packages/matplotlib/figure.py:1743: UserWarning: This figure includes Axes that are not compatible with tight_layout, so its results might be incorrect.\n",
      "  warnings.warn(\"This figure includes Axes that are not \"\n"
     ]
    },
    {
     "data": {
      "image/png": "[encoded data removed]",
      "text/plain": [
       "<matplotlib.figure.Figure at 0x104584310>"
      ]
     },
     "metadata": {},
     "output_type": "display_data"
    }
   ],
   "source": [
    "plot_scores(top_scores)"
   ]
  },
  {
   "cell_type": "code",
   "execution_count": 37,
   "metadata": {
    "collapsed": true
   },
   "outputs": [],
   "source": [
    "from scipy.stats import variation\n",
    "\n",
    "def t_score(score, cutoff=0.3):\n",
    "    mean, sem = np.mean(score), st.sem(score)\n",
    "    val = st.t.cdf(0.3, len(score)-1, loc=mean, scale=sem)\n",
    "    return val\n",
    "\n",
    "def rank_by_t_score(score_list):\n",
    "    \"\"\"\n",
    "    sorts score list by t-score\n",
    "    \n",
    "    score_list should be a list of tuples in the form:\n",
    "    tup[0] = rank\n",
    "    tup[1] = estimator label string\n",
    "    tup[2] = list of scores\n",
    "    tup[3] = real_index\n",
    "    \"\"\"\n",
    "    ranks = [tup[0] for tup in score_list]\n",
    "    labels = [tup[1] for tup in score_list]\n",
    "    scores = [tup[2] for tup in score_list]\n",
    "    real_is = [tup[3] for tup in score_list]\n",
    "    ts = [t_score(score) for score in scores]\n",
    "    \n",
    "    all_list = zip(ranks, labels, scores, real_is, ts)\n",
    "    \n",
    "    all_list = sorted(all_list, key=lambda tup: tup[4])\n",
    "    all_list = [tup[:4] for tup in all_list]\n",
    "    \n",
    "    return all_list"
   ]
  },
  {
   "cell_type": "code",
   "execution_count": 38,
   "metadata": {
    "scrolled": true
   },
   "outputs": [],
   "source": [
    "top_scores_t = rank_by_t_score(top_scores)"
   ]
  },
  {
   "cell_type": "code",
   "execution_count": 39,
   "metadata": {},
   "outputs": [
    {
     "data": {
      "image/png": "[encoded data removed]",
      "text/plain": [
       "<matplotlib.figure.Figure at 0x14427c4d0>"
      ]
     },
     "metadata": {},
     "output_type": "display_data"
    }
   ],
   "source": [
    "plot_scores(top_scores_t)"
   ]
  },
  {
   "cell_type": "code",
   "execution_count": 62,
   "metadata": {},
   "outputs": [],
   "source": [
    "result_params = all_grid.cv_results_['params']\n",
    "top_t_cv_idxs = [tup[3] for tup in top_scores_t[:10]]\n",
    "\n",
    "def list_params(params, idxs):\n",
    "    constants = []\n",
    "    variables = []\n",
    "    keys = params[idxs[0]].keys()\n",
    "    keys.remove('estimator')\n",
    "    \n",
    "    for key in keys:\n",
    "        temp_list = []\n",
    "        for i in idxs:\n",
    "            temp_list.append(params[i][key])\n",
    "            set_list = set(temp_list)\n",
    "        if len(set_list) == 1:\n",
    "            constants.append((key, set_list))\n",
    "        else:\n",
    "            variables.append((key, temp_list))\n",
    "\n",
    "    print 'CONSTANTS:'\n",
    "    for cons in constants:\n",
    "        print cons[0], cons[1]\n",
    "    \n",
    "    print 'VARIABLES:'\n",
    "    for var in variables:\n",
    "        print var[0], var[1]"
   ]
  },
  {
   "cell_type": "code",
   "execution_count": 63,
   "metadata": {},
   "outputs": [
    {
     "name": "stdout",
     "output_type": "stream",
     "text": [
      "CONSTANTS:\n",
      "estimator__base_estimator__class_weight set(['balanced'])\n",
      "VARIABLES:\n",
      "estimator__learning_rate [0.01, 0.01, 0.01, 0.01, 0.01, 0.01, 0.01, 0.01, 1, 1]\n",
      "estimator__base_estimator__max_depth [3, 3, 3, 3, None, None, None, None, None, None]\n",
      "estimator__base_estimator__min_samples_leaf [1, 1, 1, 1, 2, 2, 2, 2, 2, 2]\n",
      "estimator__n_estimators [25, 50, 100, 250, 25, 50, 100, 250, 25, 50]\n"
     ]
    }
   ],
   "source": [
    "list_params(result_params, top_t_cv_idxs)"
   ]
  },
  {
   "cell_type": "markdown",
   "metadata": {},
   "source": [
    "Looks like AdaBoostClassifier performs best when:\n",
    "- base estimator `class_weight` is 'balanced'\n",
    "- base estimator `max_depth` is 3 or None\n",
    "- base estimator `min_samples_leaf` is 1 or 2\n",
    "- `learning_rate` is 0.01 or 1\n",
    "\n",
    "- `n_estimators` can be any of the values tested, so will stick to the lowest: 25"
   ]
  },
  {
   "cell_type": "code",
   "execution_count": 97,
   "metadata": {},
   "outputs": [
    {
     "name": "stdout",
     "output_type": "stream",
     "text": [
      "             precision    recall  f1-score   support\n",
      "\n",
      "        0.0       1.00      0.91      0.95        57\n",
      "        1.0       0.38      1.00      0.55         3\n",
      "\n",
      "avg / total       0.97      0.92      0.93        60\n",
      "\n"
     ]
    }
   ],
   "source": [
    "best = result_params[top_t_cv_idxs[0]]['estimator']\n",
    "best.fit(train_features, train_labels)\n",
    "pred = best.predict(test_features)\n",
    "print classification_report(pred, test_labels)"
   ]
  },
  {
   "cell_type": "markdown",
   "metadata": {},
   "source": [
    "### Dump classifier, dataset, and features_list so that results can be tested using the course tester function in the [summary](summary.ipynb) notebook"
   ]
  },
  {
   "cell_type": "code",
   "execution_count": 109,
   "metadata": {},
   "outputs": [],
   "source": [
    "import tools.tester\n",
    "\n",
    "dump_classifier_and_data(best, final_data, final_names)"
   ]
  }
 ],
 "metadata": {
  "kernelspec": {
   "display_name": "Python 2",
   "language": "python",
   "name": "python2"
  },
  "language_info": {
   "codemirror_mode": {
    "name": "ipython",
    "version": 2
   },
   "file_extension": ".py",
   "mimetype": "text/x-python",
   "name": "python",
   "nbconvert_exporter": "python",
   "pygments_lexer": "ipython2",
   "version": "2.7.13"
  }
 },
 "nbformat": 4,
 "nbformat_minor": 2
}
