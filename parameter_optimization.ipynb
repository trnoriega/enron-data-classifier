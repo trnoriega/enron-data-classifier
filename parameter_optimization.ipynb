{
 "cells": [
  {
   "cell_type": "markdown",
   "metadata": {},
   "source": [
    "# Parameter optimization"
   ]
  },
  {
   "cell_type": "markdown",
   "metadata": {
    "collapsed": true
   },
   "source": [
    "### Get the data already preprocessed\n",
    "\n",
    "- `poly_data` and `poly_names` from [polynomial_features](polynomial_features.ipynb)\n",
    "- `vector_data` and `vector_names` from [save_email_features](save_email_features.ipynb)"
   ]
  },
  {
   "cell_type": "code",
   "execution_count": 1,
   "metadata": {
    "collapsed": true
   },
   "outputs": [],
   "source": [
    "import numpy as np\n",
    "import matplotlib.pyplot as plt\n",
    "import os\n",
    "import pickle\n",
    "\n",
    "HOME_PATH = os.path.expanduser('~')\n",
    "DATA_PATH = os.path.join(HOME_PATH, 'Desktop', 'raw_data', 'ml')\n",
    "\n",
    "poly_path = os.path.join(DATA_PATH, 'poly_data.pkl')\n",
    "poly_names_path = os.path.join(DATA_PATH, 'poly_names.pkl')\n",
    "with open(poly_path, 'rb') as f:\n",
    "    poly_data = pickle.load(f)\n",
    "with open(poly_names_path, 'rb') as f:\n",
    "    poly_names = pickle.load(f)\n",
    "    \n",
    "vector_path = os.path.join(DATA_PATH, 'vector_data.pkl')\n",
    "vector_names_path = os.path.join(DATA_PATH, 'vector_names.pkl')\n",
    "\n",
    "with open(vector_path, 'rb') as f:\n",
    "    vector_data = pickle.load(f)\n",
    "with open(vector_names_path, 'rb') as f:\n",
    "    vector_names = pickle.load(f)"
   ]
  },
  {
   "cell_type": "markdown",
   "metadata": {},
   "source": [
    "Merge dictionaries and feature lists"
   ]
  },
  {
   "cell_type": "code",
   "execution_count": 2,
   "metadata": {},
   "outputs": [
    {
     "name": "stdout",
     "output_type": "stream",
     "text": [
      "inner keys: 4290 compare: 4290\n"
     ]
    }
   ],
   "source": [
    "from copy import deepcopy\n",
    "final_data = deepcopy(poly_data)\n",
    "for key, item in final_data.items():\n",
    "    item.update(vector_data[key])\n",
    "    \n",
    "print 'inner keys:', len(final_data['METTS MARK'].keys()),\\\n",
    "      'compare:', len(vector_data['METTS MARK'].keys()) + len(poly_data['METTS MARK'].keys()) - 1"
   ]
  },
  {
   "cell_type": "code",
   "execution_count": 3,
   "metadata": {},
   "outputs": [
    {
     "name": "stdout",
     "output_type": "stream",
     "text": [
      "inner keys: 4290 compare: 4290\n",
      "Features: 4290 compare: 4290\n"
     ]
    }
   ],
   "source": [
    "from copy import deepcopy\n",
    "final_data = deepcopy(poly_data)\n",
    "for key, item in final_data.items():\n",
    "    item.update(vector_data[key])\n",
    "    \n",
    "print 'inner keys:', len(final_data['METTS MARK'].keys()),\\\n",
    "      'compare:', len(vector_data['METTS MARK'].keys()) + len(poly_data['METTS MARK'].keys()) - 1\n",
    "\n",
    "vector_names.remove('poi')\n",
    "final_names = poly_names + vector_names\n",
    "print 'Features:', len(final_names), 'compare:', len(final_data['METTS MARK'].keys())"
   ]
  },
  {
   "cell_type": "markdown",
   "metadata": {},
   "source": [
    "Convert data to a usable array"
   ]
  },
  {
   "cell_type": "code",
   "execution_count": 4,
   "metadata": {},
   "outputs": [
    {
     "name": "stdout",
     "output_type": "stream",
     "text": [
      "Keys, labels, features shapes: (148,) (148,) (148, 4289)\n"
     ]
    }
   ],
   "source": [
    "from tools.feature_format import featureFormat\n",
    "\n",
    "array = featureFormat(final_data, final_names,\n",
    "                      keep_keys=True, remove_NaN=True, remove_all_zeroes=False)\n",
    "keys, labels, features =\\\n",
    "        array[:,0], array[:,1].astype(np.float16), array[:, 2:].astype(np.float32)\n",
    "\n",
    "print 'Keys, labels, features shapes:', keys.shape, labels.shape, features.shape"
   ]
  },
  {
   "cell_type": "code",
   "execution_count": 5,
   "metadata": {
    "collapsed": true
   },
   "outputs": [],
   "source": [
    "from sklearn.model_selection import train_test_split\n",
    "\n",
    "train_features, test_features, train_labels, test_labels =\\\n",
    "train_test_split(features, labels, test_size=0.4, random_state=42)"
   ]
  },
  {
   "cell_type": "markdown",
   "metadata": {},
   "source": [
    "### Test on different classifiers"
   ]
  },
  {
   "cell_type": "code",
   "execution_count": 39,
   "metadata": {
    "collapsed": true
   },
   "outputs": [],
   "source": [
    "#Scoring function\n",
    "from sklearn.model_selection import cross_val_score, StratifiedKFold\n",
    "from sklearn.metrics import classification_report\n",
    "\n",
    "def scores(clf, features, labels, printout=False):\n",
    "    title = str(type(clf))\n",
    "    title = title.split('.')[-1][:-2]\n",
    "    \n",
    "    if printout:\n",
    "        print '%s:\\n' % title\n",
    "    \n",
    "    summary_dict = {title: {}}\n",
    "    \n",
    "    cv = StratifiedKFold(n_splits=3, shuffle=True, random_state=41)\n",
    "    \n",
    "    for scoring in ['recall', 'precision', 'f1']:\n",
    "        scores = cross_val_score(clf, features, labels, cv=cv, scoring=scoring)\n",
    "        mean, std = np.mean(scores), np.std(scores)\n",
    "        \n",
    "        summary_dict[title][scoring] = (mean,std)\n",
    "        \n",
    "        if printout:\n",
    "            print '-', scoring, scores\n",
    "            print 'Mean: %0.2f (+/-%0.2f)' % (mean, 2*std)\n",
    "    \n",
    "    return summary_dict"
   ]
  },
  {
   "cell_type": "code",
   "execution_count": 41,
   "metadata": {},
   "outputs": [
    {
     "name": "stdout",
     "output_type": "stream",
     "text": [
      "GaussianNB:\n",
      "\n",
      "- recall [ 0.25        0.14285714  0.28571429]\n",
      "Mean: 0.23 (+/-0.12)\n",
      "- precision [ 0.4  1.   1. ]\n",
      "Mean: 0.80 (+/-0.57)\n",
      "- f1 [ 0.30769231  0.25        0.44444444]\n",
      "Mean: 0.33 (+/-0.16)\n"
     ]
    }
   ],
   "source": [
    "from sklearn.naive_bayes import GaussianNB\n",
    "\n",
    "clf = GaussianNB()\n",
    "nb_scores = scores(clf, features, labels, printout=True)"
   ]
  },
  {
   "cell_type": "code",
   "execution_count": null,
   "metadata": {
    "collapsed": true
   },
   "outputs": [],
   "source": [
    "### Try a variety of classifiers\n",
    "from sklearn.svm import SVC \n",
    "from sklearn.ensemble import RandomForestClassifier, ExtraTreesClassifier, AdaBoostClassifier\n",
    "from sklearn.linear_model import LogisticRegression\n",
    "\n",
    "clfs = [SVC(), \n",
    "        AdaBoostClassifier(),\n",
    "        ExtraTreesClassifier(),\n",
    "        RandomForestClassifier(),\n",
    "        LogisticRegression()]\n",
    "\n",
    "scores_list = []\n",
    "for clf in clfs:\n",
    "    title = str(type(clf))\n",
    "    title = title.split('.')[-1][:-2]\n",
    "    scores_list.append(scores(clf, train_features, train_labels))"
   ]
  },
  {
   "cell_type": "code",
   "execution_count": 82,
   "metadata": {},
   "outputs": [
    {
     "name": "stdout",
     "output_type": "stream",
     "text": [
      "(-0.25, 5.0)\n"
     ]
    },
    {
     "data": {
      "image/png": "[encoded data removed]",
      "text/plain": [
       "<matplotlib.figure.Figure at 0x14a145bd0>"
      ]
     },
     "metadata": {},
     "output_type": "display_data"
    }
   ],
   "source": [
    "keys = []\n",
    "f1s = []\n",
    "precisions = []\n",
    "recalls = []\n",
    "\n",
    "for dicto in scores_list:\n",
    "    key, item = dicto.items()[0]\n",
    "    keys.append(key)\n",
    "    f1s.append(item['f1'])\n",
    "    precisions.append(item['precision'])\n",
    "    recalls.append(item['recall'])\n",
    "\n",
    "labels = ['f1', 'precision', 'recall']\n",
    "values = [f1s, precisions, recalls]\n",
    "colors = ['#EE3224', '#F78F1E', '#FFC222']\n",
    "\n",
    "pos = list(range(len(keys)))\n",
    "width = 0.25\n",
    "\n",
    "plt.close('all')\n",
    "fig, ax = plt.subplots(figsize=(10,7))\n",
    "for i, value in enumerate(values):\n",
    "    means, stds = zip(*value)\n",
    "    plt.bar([p + width*i for p in pos],\n",
    "            means,\n",
    "            width,\n",
    "            yerr=stds,\n",
    "            alpha=0.5,\n",
    "            color=colors[i],\n",
    "            label=labels[i])\n",
    "\n",
    "ax.set_ylabel('Score')\n",
    "ax.set_title('Unoptimized algorithm scores')\n",
    "ax.set_xticks([p + width for p in pos])\n",
    "ax.set_xticklabels(keys, rotation=45, horizontalalignment='right')\n",
    "plt.xlim(min(pos)-width, max(pos)+width*4)\n",
    "\n",
    "ax.hlines(0.3, ax.get_xlim()[0], ax.get_xlim()[1], linestyles='dashed', colors='r')\n",
    "\n",
    "print ax.get_xlim()\n",
    "plt.legend(loc='upper right')\n",
    "plt.grid()\n",
    "plt.show()"
   ]
  },
  {
   "cell_type": "code",
   "execution_count": 10,
   "metadata": {
    "collapsed": true
   },
   "outputs": [],
   "source": [
    "from sklearn.tree import DecisionTreeClassifier\n",
    "DTC = DecisionTreeClassifier(class_weight='balanced', random_state=42)\n",
    "ABC = AdaBoostClassifier(base_estimator=DTC, random_state=42)\n",
    "ABC_params = {'polynomials__degree': [2,3],\n",
    "              'estimator': [ABC],\n",
    "              'estimator__base_estimator__max_depth': [None, 3, 6, 12, 24, 48],\n",
    "              'estimator__base_estimator__min_samples_leaf': [1, 2, 4, 8, 16],\n",
    "              'estimator__n_estimators': [25, 50, 100, 250],\n",
    "              'estimator__learning_rate': [0.01, 0.1, 1, 10]}\n",
    "\n",
    "LR = LogisticRegression(solver='lbfgs')\n",
    "LR_params = {'polynomials__degree': [2,3],\n",
    "             'estimator': [LR],\n",
    "             'estimator__C': [1e-2, 1e-1, 1, 1e1, 1e2],\n",
    "             'estimator__class_weight': [None, 'balanced'],\n",
    "             'estimator__max_iter': [100, 200],\n",
    "             'estimator__tol': [1e-4, 5e-4, 1e-3],\n",
    "             'estimator__warm_start': [False, True]}\n",
    "\n",
    "large_grid_params = [ABC_params, ETC_params, RF_params, LR_params]"
   ]
  },
  {
   "cell_type": "markdown",
   "metadata": {},
   "source": [
    "---\n",
    "\n",
    "### No need to run the 2 cells below again! \n",
    "(Relevant data has been pickled in large_grid.pkl\n",
    "\n",
    "---"
   ]
  },
  {
   "cell_type": "code",
   "execution_count": 44,
   "metadata": {},
   "outputs": [
    {
     "name": "stdout",
     "output_type": "stream",
     "text": [
      "Fitting 5 folds for each of 3360 candidates, totalling 16800 fits\n"
     ]
    },
    {
     "name": "stderr",
     "output_type": "stream",
     "text": [
      "[Parallel(n_jobs=-1)]: Done  76 tasks      | elapsed:    3.9s\n",
      "[Parallel(n_jobs=-1)]: Done 326 tasks      | elapsed:   33.1s\n",
      "[Parallel(n_jobs=-1)]: Done 576 tasks      | elapsed:  1.8min\n",
      "[Parallel(n_jobs=-1)]: Done 926 tasks      | elapsed:  3.7min\n",
      "[Parallel(n_jobs=-1)]: Done 1376 tasks      | elapsed:  6.0min\n",
      "[Parallel(n_jobs=-1)]: Done 1926 tasks      | elapsed:  7.7min\n",
      "[Parallel(n_jobs=-1)]: Done 2576 tasks      | elapsed: 10.4min\n",
      "[Parallel(n_jobs=-1)]: Done 3326 tasks      | elapsed: 13.2min\n",
      "[Parallel(n_jobs=-1)]: Done 4176 tasks      | elapsed: 16.0min\n",
      "[Parallel(n_jobs=-1)]: Done 5126 tasks      | elapsed: 19.6min\n",
      "[Parallel(n_jobs=-1)]: Done 6176 tasks      | elapsed: 22.8min\n",
      "[Parallel(n_jobs=-1)]: Done 7326 tasks      | elapsed: 26.4min\n",
      "[Parallel(n_jobs=-1)]: Done 8576 tasks      | elapsed: 30.4min\n",
      "[Parallel(n_jobs=-1)]: Done 9926 tasks      | elapsed: 34.7min\n",
      "[Parallel(n_jobs=-1)]: Done 11376 tasks      | elapsed: 39.4min\n",
      "[Parallel(n_jobs=-1)]: Done 12926 tasks      | elapsed: 44.3min\n",
      "[Parallel(n_jobs=-1)]: Done 14576 tasks      | elapsed: 49.7min\n",
      "[Parallel(n_jobs=-1)]: Done 16326 tasks      | elapsed: 53.8min\n",
      "[Parallel(n_jobs=-1)]: Done 16800 out of 16800 | elapsed: 174.6min finished\n"
     ]
    }
   ],
   "source": [
    "import warnings\n",
    "with warnings.catch_warnings():\n",
    "    warnings.simplefilter(\"ignore\")\n",
    "    \n",
    "    large_grid = GridSearchCV(pipe,\n",
    "                              param_grid=large_grid_params,\n",
    "                              cv=5, \n",
    "                              verbose=1,\n",
    "                              n_jobs=-1,\n",
    "                              scoring='f1')\n",
    "\n",
    "    large_grid.fit(features, labels)"
   ]
  },
  {
   "cell_type": "code",
   "execution_count": 46,
   "metadata": {
    "collapsed": true
   },
   "outputs": [],
   "source": [
    "with open('large_grid.pkl', 'wb') as f:\n",
    "    pickle.dump(large_grid, f)"
   ]
  },
  {
   "cell_type": "markdown",
   "metadata": {},
   "source": [
    "---\n",
    "Run from here on to catch up\n",
    "\n",
    "---"
   ]
  },
  {
   "cell_type": "code",
   "execution_count": 11,
   "metadata": {
    "collapsed": true
   },
   "outputs": [],
   "source": [
    "import pickle\n",
    "with open('large_grid.pkl', 'rb') as f:\n",
    "    large_grid = pickle.load(f)"
   ]
  },
  {
   "cell_type": "code",
   "execution_count": 95,
   "metadata": {
    "collapsed": true
   },
   "outputs": [],
   "source": [
    "def find_top_scores(grid, class_types, cutoff=5, cv=5, verbose=False):\n",
    "    \"\"\"\n",
    "    List the top scores from a fitted gridCV search\n",
    "    \n",
    "    returns list of tuples with (rank, estimator_label, test_scores, real index)\n",
    "    \"\"\"\n",
    "\n",
    "    grid_results = grid.cv_results_\n",
    "\n",
    "    score_keys = []\n",
    "    end_str = '_test_score'\n",
    "    start_str = 'split'\n",
    "    for num in range(cv):\n",
    "        complete_str = start_str+str(num)+end_str\n",
    "        score_keys.append(complete_str)\n",
    "\n",
    "    ranks = grid_results['rank_test_score']\n",
    "    names_scores = []\n",
    "    \n",
    "    for rank in range(1,cutoff+1):\n",
    "        \n",
    "        idx_list = np.where(ranks == rank)[0]\n",
    "        # More than one estimator can have the same rank\n",
    "        for i in idx_list:\n",
    "            estimator = grid_results['params'][i]['estimator']\n",
    "            for tup in class_types:\n",
    "                if isinstance(estimator, tup[0]):\n",
    "                    estimator_label = tup[1]\n",
    "            test_scores = []\n",
    "            for key in score_keys:\n",
    "                test_scores.append(grid_results[key][i])\n",
    "            \n",
    "            if verbose:\n",
    "                print(estimator_label)\n",
    "                print np.mean(test_scores), np.std(test_scores)\n",
    "            \n",
    "            names_scores.append((rank, estimator_label, test_scores, i))\n",
    "    \n",
    "    return names_scores"
   ]
  },
  {
   "cell_type": "code",
   "execution_count": 96,
   "metadata": {
    "collapsed": true
   },
   "outputs": [],
   "source": [
    "class_types = [(AdaBoostClassifier, 'AdaBoost'),\n",
    "               (ExtraTreesClassifier, 'ExtraTrees'),\n",
    "               (RandomForestClassifier, 'RandomForest'),\n",
    "               (LogisticRegression, 'LogisticRegression')]\n",
    "\n",
    "top200 = find_top_scores(large_grid, class_types, cutoff=200)"
   ]
  },
  {
   "cell_type": "code",
   "execution_count": 84,
   "metadata": {
    "collapsed": true
   },
   "outputs": [],
   "source": [
    "import matplotlib.patches as mpatches\n",
    "\n",
    "def plot_scores(score_list):\n",
    "    \"\"\"\n",
    "    plots scores from score_list generated by find_top_scores\n",
    "    \n",
    "    score_list should be a list of tuples in the form:\n",
    "    tup[0] = rank\n",
    "    tup[1] = estimator label string\n",
    "    tup[2] = list of scores\n",
    "    tup[3] = real_index\n",
    "    \"\"\"\n",
    "    \n",
    "    ranks = [tup[0] for tup in score_list]\n",
    "    labels = [tup[1] for tup in score_list]\n",
    "    scores = [tup[2] for tup in score_list]\n",
    "    means = [np.mean(x) for x in scores]\n",
    "    stds = [np.std(x) for x in scores]\n",
    "    \n",
    "    plt.close('all')\n",
    "    ind = len(score_list)\n",
    "    fig = plt.figure(1, figsize=(10, 7), tight_layout=True)\n",
    "    ax = fig.gca(title='Estimator scores',\n",
    "                 xlabel='Rank',\n",
    "                 xlim=[-1, ind],\n",
    "                 xticks=range(ind),\n",
    "                 ylabel='average score')\n",
    "    bar_list = ax.bar(range(ind), means, yerr=stds, align='center')\n",
    "    ax.set_xticklabels(ranks)\n",
    "    # color bar based on label selected features red\n",
    "    color_dict = {'AdaBoost': 'b',\n",
    "                  'ExtraTrees': 'r',\n",
    "                  'RandomForest': 'g',\n",
    "                  'LogisticRegression': 'm'}\n",
    "    for i, name in enumerate(labels):\n",
    "        bar_list[i].set_color(color_dict[name])\n",
    "        \n",
    "    # create custom legend\n",
    "    blue_patch = mpatches.Patch(color='blue', label='Adaboost')\n",
    "    red_patch = mpatches.Patch(color='red', label='ExtraTrees')\n",
    "    green_patch = mpatches.Patch(color='green', label='RandomForest')\n",
    "    magenta_patch = mpatches.Patch(color='magenta', label='LogisticRegression')\n",
    "    plt.legend(handles=[blue_patch, red_patch, green_patch, magenta_patch])\n",
    "    plt.show()"
   ]
  },
  {
   "cell_type": "code",
   "execution_count": 98,
   "metadata": {},
   "outputs": [
    {
     "data": {
      "image/png": "[encoded data removed]",
      "text/plain": [
       "<matplotlib.figure.Figure at 0x15b1ac950>"
      ]
     },
     "metadata": {},
     "output_type": "display_data"
    }
   ],
   "source": [
    "plot_scores(top200)"
   ]
  },
  {
   "cell_type": "code",
   "execution_count": 92,
   "metadata": {
    "collapsed": true
   },
   "outputs": [],
   "source": [
    "from scipy.stats import variation\n",
    "\n",
    "def rank_by_cv(score_list):\n",
    "    \"\"\"\n",
    "    sorts score list by coefficient of variation\n",
    "    \n",
    "    score_list should be a list of tuples in the form:\n",
    "    tup[0] = rank\n",
    "    tup[1] = estimator label string\n",
    "    tup[2] = list of scores\n",
    "    tup[3] = real_index\n",
    "    \"\"\"\n",
    "    ranks = [tup[0] for tup in score_list]\n",
    "    labels = [tup[1] for tup in score_list]\n",
    "    scores = [tup[2] for tup in score_list]\n",
    "    real_is = [tup[3] for tup in score_list]\n",
    "    cvs = [variation(score) for score in scores]\n",
    "    \n",
    "    all_list = zip(ranks, labels, scores, real_is, cvs)\n",
    "    \n",
    "    all_list = sorted(all_list, key=lambda tup: tup[4])\n",
    "    all_list = [tup[:4] for tup in all_list]\n",
    "    \n",
    "    return all_list"
   ]
  },
  {
   "cell_type": "code",
   "execution_count": 99,
   "metadata": {},
   "outputs": [
    {
     "data": {
      "text/plain": [
       "(1,\n",
       " 'AdaBoost',\n",
       " [0.28571428571428575,\n",
       "  0.40000000000000002,\n",
       "  0.57142857142857151,\n",
       "  0.57142857142857151,\n",
       "  0.5],\n",
       " 238)"
      ]
     },
     "execution_count": 99,
     "metadata": {},
     "output_type": "execute_result"
    }
   ],
   "source": [
    "top200[0]"
   ]
  },
  {
   "cell_type": "code",
   "execution_count": 100,
   "metadata": {
    "collapsed": true,
    "scrolled": true
   },
   "outputs": [],
   "source": [
    "top200_cv = rank_by_cv(top200)"
   ]
  },
  {
   "cell_type": "code",
   "execution_count": 101,
   "metadata": {},
   "outputs": [
    {
     "data": {
      "image/png": "[encoded data removed]",
      "text/plain": [
       "<matplotlib.figure.Figure at 0x1246c9410>"
      ]
     },
     "metadata": {},
     "output_type": "display_data"
    }
   ],
   "source": [
    "plot_scores(top200_cv)"
   ]
  },
  {
   "cell_type": "code",
   "execution_count": 103,
   "metadata": {},
   "outputs": [
    {
     "data": {
      "text/plain": [
       "[(29,\n",
       "  'ExtraTrees',\n",
       "  [0.44444444444444448,\n",
       "   0.40000000000000002,\n",
       "   0.44444444444444442,\n",
       "   0.28571428571428575,\n",
       "   0.40000000000000002],\n",
       "  1336),\n",
       " (175,\n",
       "  'AdaBoost',\n",
       "  [0.25,\n",
       "   0.40000000000000002,\n",
       "   0.36363636363636365,\n",
       "   0.28571428571428575,\n",
       "   0.33333333333333337],\n",
       "  313),\n",
       " (35,\n",
       "  'ExtraTrees',\n",
       "  [0.44444444444444448,\n",
       "   0.40000000000000002,\n",
       "   0.44444444444444442,\n",
       "   0.28571428571428575,\n",
       "   0.33333333333333331],\n",
       "  976),\n",
       " (35,\n",
       "  'ExtraTrees',\n",
       "  [0.44444444444444448,\n",
       "   0.40000000000000002,\n",
       "   0.44444444444444442,\n",
       "   0.28571428571428575,\n",
       "   0.33333333333333331],\n",
       "  1516),\n",
       " (35,\n",
       "  'ExtraTrees',\n",
       "  [0.44444444444444448,\n",
       "   0.40000000000000002,\n",
       "   0.44444444444444442,\n",
       "   0.28571428571428575,\n",
       "   0.33333333333333331],\n",
       "  1696)]"
      ]
     },
     "execution_count": 103,
     "metadata": {},
     "output_type": "execute_result"
    }
   ],
   "source": [
    "top200_cv[:5]"
   ]
  },
  {
   "cell_type": "code",
   "execution_count": 108,
   "metadata": {
    "collapsed": true
   },
   "outputs": [],
   "source": [
    "idxs = [0, 2, 3, 4]\n",
    "param_is = [top200_cv[i][3] for i in idxs]\n",
    "params = [large_grid.cv_results_['params'][i] for i in param_is]"
   ]
  },
  {
   "cell_type": "code",
   "execution_count": 122,
   "metadata": {},
   "outputs": [
    {
     "name": "stdout",
     "output_type": "stream",
     "text": [
      "\n",
      "estimator__min_samples_leaf\n",
      "4 4 4 4\n",
      "polynomials__degree\n",
      "2 2 2 2\n",
      "estimator__max_features\n",
      "1 1 1 1\n",
      "warm_start\n",
      "False False False False\n",
      "oob_score\n",
      "False False False False\n",
      "n_jobs\n",
      "1 1 1 1\n",
      "verbose\n",
      "0 0 0 0\n",
      "max_leaf_nodes\n",
      "None None None None\n",
      "bootstrap\n",
      "False False False False\n",
      "min_samples_leaf\n",
      "4 4 4 4\n",
      "n_estimators\n",
      "100 100 100 100\n",
      "min_samples_split\n",
      "2 2 2 2\n",
      "min_weight_fraction_leaf\n",
      "0.0 0.0 0.0 0.0\n",
      "criterion\n",
      "gini gini gini gini\n",
      "random_state\n",
      "42 42 42 42\n",
      "min_impurity_split\n",
      "1e-07 1e-07 1e-07 1e-07\n",
      "max_features\n",
      "1 1 1 1\n",
      "max_depth\n",
      "6 None 12 24\n",
      "class_weight\n",
      "balanced balanced balanced balanced\n",
      "estimator__max_depth\n",
      "6 None 12 24\n",
      "estimator__n_estimators\n",
      "100 100 100 100\n"
     ]
    }
   ],
   "source": [
    "top_keys = params[0].keys()\n",
    "est_keys = params[0]['estimator'].get_params().keys()\n",
    "for key in top_keys:\n",
    "    if key != 'estimator':\n",
    "        print\n",
    "        print key\n",
    "        for item in params:\n",
    "            print item[key],\n",
    "    else:\n",
    "        for key in est_keys:\n",
    "            print\n",
    "            print key\n",
    "            for item in params:\n",
    "                print item['estimator'].get_params()[key],"
   ]
  },
  {
   "cell_type": "markdown",
   "metadata": {},
   "source": [
    "The only parameter changing is `estimator__max_depth` and in that one 6, 12, and 24 seem to give the same result (based on scores reported two cell up). I will pursue the 1st one:"
   ]
  },
  {
   "cell_type": "code",
   "execution_count": 124,
   "metadata": {},
   "outputs": [
    {
     "data": {
      "text/plain": [
       "1336"
      ]
     },
     "execution_count": 124,
     "metadata": {},
     "output_type": "execute_result"
    }
   ],
   "source": [
    "param_is[0]"
   ]
  },
  {
   "cell_type": "code",
   "execution_count": 125,
   "metadata": {
    "collapsed": true
   },
   "outputs": [],
   "source": [
    "params_to_test = large_grid.cv_results_['params'][1336]"
   ]
  },
  {
   "cell_type": "code",
   "execution_count": 126,
   "metadata": {
    "collapsed": true
   },
   "outputs": [],
   "source": [
    "with open('testing_params.pickle', 'wb') as f:\n",
    "    pickle.dump(params_to_test, f)"
   ]
  }
 ],
 "metadata": {
  "kernelspec": {
   "display_name": "Python 2",
   "language": "python",
   "name": "python2"
  },
  "language_info": {
   "codemirror_mode": {
    "name": "ipython",
    "version": 2
   },
   "file_extension": ".py",
   "mimetype": "text/x-python",
   "name": "python",
   "nbconvert_exporter": "python",
   "pygments_lexer": "ipython2",
   "version": "2.7.13"
  }
 },
 "nbformat": 4,
 "nbformat_minor": 2
}
