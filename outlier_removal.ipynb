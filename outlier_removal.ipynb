{
 "cells": [
  {
   "cell_type": "markdown",
   "metadata": {},
   "source": [
    "# Outlier removal"
   ]
  },
  {
   "cell_type": "markdown",
   "metadata": {},
   "source": [
    "### Support Functions"
   ]
  },
  {
   "cell_type": "code",
   "execution_count": 1,
   "metadata": {},
   "outputs": [],
   "source": [
    "import numpy as np\n",
    "import matplotlib.pyplot as plt\n",
    "\n",
    "# For make_features_labels\n",
    "from tools.feature_format import featureFormat\n",
    "\n",
    "def scatter_plotter(dict_list, rows_columns=(1,1), figsize=(7, 7)):\n",
    "    \"\"\"\n",
    "    Takes a list of dicts and plots each.\n",
    "    \n",
    "    dicts should contain the following:\n",
    "    'array': X, y array to be plotted\n",
    "    'title': title for the array\n",
    "    'masks': dicts with\n",
    "                -'mask': bool index to apply\n",
    "                -'kwargs': keyword arguments to apply to the mask \n",
    "    \"\"\"\n",
    "    r = rows_columns[0]\n",
    "    c = rows_columns[1]\n",
    "    plt.close('all')\n",
    "    fig = plt.figure(figsize=figsize, tight_layout=True)\n",
    "    for i, dicty in enumerate(dict_list):\n",
    "        X = dicty['array'][:,0]\n",
    "        y = dicty['array'][:,1]\n",
    "        ax = fig.add_subplot(r, c, i+1)\n",
    "        for key, mask in dicty['masks'].items():\n",
    "            idx = mask['array']\n",
    "            kwargs = mask['kwargs']\n",
    "            ax.scatter(X[idx],\n",
    "                       y[idx], \n",
    "                       **kwargs)\n",
    "        \n",
    "        title = dicty.get('title', '')\n",
    "        ax.set_title(title)\n",
    "        ax.legend()\n",
    "    plt.show()"
   ]
  },
  {
   "cell_type": "code",
   "execution_count": 2,
   "metadata": {},
   "outputs": [],
   "source": [
    "# Load the dictionary containing financial data and some email features (to_ from_poi)\n",
    "import pickle\n",
    "from tools.feature_format import featureFormat, targetFeatureSplit\n",
    "\n",
    "with open('data/final_project_dataset.pkl', 'rb') as f:\n",
    "    fin_data = pickle.load(f)\n",
    "\n",
    "# Remove 'TOTAL' from data\n",
    "del fin_data['TOTAL']\n",
    "\n",
    "# Start with all features except: 'email_address'\n",
    "all_feature_names = ['poi', 'salary', 'to_messages', 'deferral_payments', 'total_payments',\\\n",
    "'exercised_stock_options', 'bonus', 'restricted_stock', 'shared_receipt_with_poi',\\\n",
    "'restricted_stock_deferred', 'total_stock_value', 'expenses', 'loan_advances',\\\n",
    "'from_messages', 'other', 'from_this_person_to_poi', 'director_fees', 'deferred_income',\\\n",
    "'long_term_incentive', 'from_poi_to_this_person']\n",
    "\n",
    "data = featureFormat(fin_data, all_feature_names, sort_keys=True, keep_keys=True)"
   ]
  },
  {
   "cell_type": "code",
   "execution_count": 3,
   "metadata": {},
   "outputs": [
    {
     "data": {
      "text/plain": [
       "((144,), (144,), (144, 19))"
      ]
     },
     "execution_count": 3,
     "metadata": {},
     "output_type": "execute_result"
    }
   ],
   "source": [
    "keys, labels, features = data[:,0], data[:,1].astype(float), data[:, 2:].astype(float)\n",
    "keys.shape, labels.shape, features.shape"
   ]
  },
  {
   "cell_type": "code",
   "execution_count": 4,
   "metadata": {},
   "outputs": [],
   "source": [
    "from sklearn.ensemble import IsolationForest\n",
    "\n",
    "clf = IsolationForest(contamination=0.02, random_state=42)\n",
    "clf.fit(features)\n",
    "scores = clf.decision_function(features)"
   ]
  },
  {
   "cell_type": "code",
   "execution_count": 5,
   "metadata": {},
   "outputs": [
    {
     "name": "stderr",
     "output_type": "stream",
     "text": [
      "/Users/TRN/anaconda/envs/ml27/lib/python2.7/site-packages/matplotlib/figure.py:1743: UserWarning: This figure includes Axes that are not compatible with tight_layout, so its results might be incorrect.\n",
      "  warnings.warn(\"This figure includes Axes that are not \"\n"
     ]
    },
    {
     "data": {
      "image/png": "[encoded data removed]",
      "text/plain": [
       "<matplotlib.figure.Figure at 0x119e57a90>"
      ]
     },
     "metadata": {},
     "output_type": "display_data"
    }
   ],
   "source": [
    "fig = plt.figure(figsize=(7,5), tight_layout=True)\n",
    "ax = fig.gca()\n",
    "ax.hist(scores, bins=60)\n",
    "ax.set_title('Distribution of IsolationForest anomaly scores in full dataset')\n",
    "ax.set_xlabel('Anomaly score')\n",
    "ax.set_ylabel('# of samples')\n",
    "plt.show()"
   ]
  },
  {
   "cell_type": "code",
   "execution_count": 6,
   "metadata": {},
   "outputs": [
    {
     "name": "stdout",
     "output_type": "stream",
     "text": [
      "Number of outliers:  4\n",
      "Fraction of outliers that are pois:  0.5\n"
     ]
    }
   ],
   "source": [
    "outlier_mask = scores < -0.054\n",
    "outlier_features, outlier_labels, outlier_keys =\\\n",
    "features[outlier_mask], labels[outlier_mask], keys[outlier_mask]\n",
    "print 'Number of outliers: ', len(outlier_labels)\n",
    "print 'Fraction of outliers that are pois: ', float(sum(outlier_labels))/len(outlier_labels)"
   ]
  },
  {
   "cell_type": "code",
   "execution_count": 7,
   "metadata": {
    "collapsed": true
   },
   "outputs": [],
   "source": [
    "from sklearn.decomposition import PCA\n",
    "pca = PCA(n_components=2)\n",
    "arr = pca.fit_transform(features)\n",
    "\n",
    "plt_dict = {'title': 'outlier removal'}\n",
    "plt_dict['array'] = arr\n",
    "plt_dict['masks'] = {}\n",
    "plt_dict['masks']['poi'] = {'array': (labels == 1),\n",
    "                            'kwargs': {'facecolors':'none', \n",
    "                                       'edgecolors':'b',\n",
    "                                       'label':'poi'}}\n",
    "plt_dict['masks']['non_poi'] = {'array': (labels == 0),\n",
    "                                'kwargs': {'facecolors':'none', \n",
    "                                            'edgecolors':'r',\n",
    "                                            's':5,\n",
    "                                            'label':'non_poi'}}\n",
    "plt_dict['masks']['outliers'] = {'array': outlier_mask,\n",
    "                                 'kwargs': {'color':'k',\n",
    "                                            'marker':'x',\n",
    "                                            's':80,\n",
    "                                            'label':'outliers'}}"
   ]
  },
  {
   "cell_type": "code",
   "execution_count": 8,
   "metadata": {},
   "outputs": [
    {
     "data": {
      "image/png": "[encoded data removed]",
      "text/plain": [
       "<matplotlib.figure.Figure at 0x119e57d10>"
      ]
     },
     "metadata": {},
     "output_type": "display_data"
    }
   ],
   "source": [
    "scatter_plotter([plt_dict])"
   ]
  },
  {
   "cell_type": "code",
   "execution_count": 9,
   "metadata": {},
   "outputs": [
    {
     "name": "stdout",
     "output_type": "stream",
     "text": [
      "BHATNAGAR SANJAY\n",
      "FREVERT MARK A\n",
      "LAY KENNETH L\n",
      "SKILLING JEFFREY K\n"
     ]
    }
   ],
   "source": [
    "for key in outlier_keys:\n",
    "    print key"
   ]
  },
  {
   "cell_type": "code",
   "execution_count": 10,
   "metadata": {},
   "outputs": [],
   "source": [
    "out_data = fin_data.copy()\n",
    "for key in outlier_keys:\n",
    "    del out_data[key]\n",
    "\n",
    "with open('out_data.pkl', 'wb') as f:\n",
    "    pickle.dump(out_data, f)"
   ]
  }
 ],
 "metadata": {
  "kernelspec": {
   "display_name": "Python 2",
   "language": "python",
   "name": "python2"
  },
  "language_info": {
   "codemirror_mode": {
    "name": "ipython",
    "version": 2
   },
   "file_extension": ".py",
   "mimetype": "text/x-python",
   "name": "python",
   "nbconvert_exporter": "python",
   "pygments_lexer": "ipython2",
   "version": "2.7.13"
  }
 },
 "nbformat": 4,
 "nbformat_minor": 2
}
