{
 "cells": [
  {
   "cell_type": "markdown",
   "metadata": {},
   "source": [
    "# Outlier removal"
   ]
  },
  {
   "cell_type": "markdown",
   "metadata": {},
   "source": [
    "Load the `mean_data` dictionary created in [imputing_data](imputing_data.ipynb), and `all_keys` feature list created in [email_features](email_features.ipynb):"
   ]
  },
  {
   "cell_type": "code",
   "execution_count": 1,
   "metadata": {
    "collapsed": true
   },
   "outputs": [],
   "source": [
    "import numpy as np\n",
    "import matplotlib.pyplot as plt\n",
    "import pickle\n",
    "from tools.feature_format import featureFormat\n",
    "import os\n",
    "\n",
    "HOME_PATH = os.path.expanduser('~')\n",
    "DATA_PATH = os.path.join(HOME_PATH, 'Desktop', 'raw_data', 'ml')\n",
    "dict_path = os.path.join(DATA_PATH, 'mean_data.pkl')\n",
    "keys_path = os.path.join(DATA_PATH, 'all_keys.pkl')\n",
    "\n",
    "with open(dict_path, 'rb') as f:\n",
    "    mean_data = pickle.load(f)\n",
    "\n",
    "with open(keys_path, 'rb') as f:\n",
    "    all_keys = pickle.load(f)"
   ]
  },
  {
   "cell_type": "code",
   "execution_count": 2,
   "metadata": {},
   "outputs": [
    {
     "data": {
      "text/plain": [
       "((149,), (149,), (149, 4231))"
      ]
     },
     "execution_count": 2,
     "metadata": {},
     "output_type": "execute_result"
    }
   ],
   "source": [
    "# Start with all features except: 'email_address'\n",
    "all_keys.remove('email_address')\n",
    "\n",
    "data = featureFormat(mean_data, all_keys, sort_keys=True, keep_keys=True)\n",
    "keys, labels, features = data[:,0], data[:,1].astype(float), data[:, 2:].astype(float)\n",
    "keys.shape, labels.shape, features.shape"
   ]
  },
  {
   "cell_type": "code",
   "execution_count": 3,
   "metadata": {
    "collapsed": true
   },
   "outputs": [],
   "source": [
    "from sklearn.ensemble import IsolationForest\n",
    "\n",
    "clf = IsolationForest(contamination=0.02, random_state=42)\n",
    "clf.fit(features)\n",
    "scores = clf.decision_function(features)"
   ]
  },
  {
   "cell_type": "code",
   "execution_count": 4,
   "metadata": {},
   "outputs": [
    {
     "name": "stderr",
     "output_type": "stream",
     "text": [
      "/Users/TRN/anaconda/envs/ml27/lib/python2.7/site-packages/matplotlib/figure.py:1743: UserWarning: This figure includes Axes that are not compatible with tight_layout, so its results might be incorrect.\n",
      "  warnings.warn(\"This figure includes Axes that are not \"\n"
     ]
    },
    {
     "data": {
      "image/png": "[encoded data removed]",
      "text/plain": [
       "<matplotlib.figure.Figure at 0x11da54750>"
      ]
     },
     "metadata": {},
     "output_type": "display_data"
    }
   ],
   "source": [
    "fig = plt.figure(figsize=(7,5), tight_layout=True)\n",
    "ax = fig.gca()\n",
    "ax.hist(scores, bins=60)\n",
    "ax.set_title('Distribution of IsolationForest anomaly scores in full dataset')\n",
    "ax.set_xlabel('Anomaly score')\n",
    "ax.set_ylabel('# of samples')\n",
    "plt.show()"
   ]
  },
  {
   "cell_type": "code",
   "execution_count": 17,
   "metadata": {},
   "outputs": [
    {
     "name": "stdout",
     "output_type": "stream",
     "text": [
      "Number of outliers:  6\n",
      "Outliers that are pois:  4\n"
     ]
    }
   ],
   "source": [
    "outlier_mask = scores < 0.065\n",
    "outlier_features, outlier_labels, outlier_keys =\\\n",
    "features[outlier_mask], labels[outlier_mask], keys[outlier_mask]\n",
    "print 'Number of outliers: ', len(outlier_labels)\n",
    "print 'Outliers that are pois: ', int(sum(outlier_labels))"
   ]
  },
  {
   "cell_type": "code",
   "execution_count": 19,
   "metadata": {
    "collapsed": true
   },
   "outputs": [],
   "source": [
    "from sklearn.decomposition import PCA\n",
    "pca = PCA(n_components=2)\n",
    "arr = pca.fit_transform(features)\n",
    "\n",
    "plt_dict = {'title': 'outlier removal'}\n",
    "plt_dict['array'] = arr\n",
    "plt_dict['masks'] = {}\n",
    "plt_dict['masks']['poi'] = {'array': (labels == 1),\n",
    "                            'kwargs': {'facecolors':'none', \n",
    "                                       'edgecolors':'b',\n",
    "                                       'label':'poi'}}\n",
    "plt_dict['masks']['non_poi'] = {'array': (labels == 0),\n",
    "                                'kwargs': {'facecolors':'none', \n",
    "                                            'edgecolors':'r',\n",
    "                                            's':5,\n",
    "                                            'label':'non_poi'}}\n",
    "plt_dict['masks']['outliers'] = {'array': outlier_mask,\n",
    "                                 'kwargs': {'color':'k',\n",
    "                                            'marker':'x',\n",
    "                                            's':80,\n",
    "                                            'label':'outliers'}}"
   ]
  },
  {
   "cell_type": "code",
   "execution_count": 20,
   "metadata": {
    "collapsed": true
   },
   "outputs": [],
   "source": [
    "def scatter_plotter(dict_list, rows_columns=(1,1), figsize=(7, 7)):\n",
    "    \"\"\"\n",
    "    Takes a list of dicts and plots each.\n",
    "    \n",
    "    dicts should contain the following:\n",
    "    'array': X, y array to be plotted\n",
    "    'title': title for the array\n",
    "    'masks': dicts with\n",
    "                -'mask': bool index to apply\n",
    "                -'kwargs': keyword arguments to apply to the mask \n",
    "    \"\"\"\n",
    "    r = rows_columns[0]\n",
    "    c = rows_columns[1]\n",
    "    plt.close('all')\n",
    "    fig = plt.figure(figsize=figsize, tight_layout=True)\n",
    "    for i, dicty in enumerate(dict_list):\n",
    "        X = dicty['array'][:,0]\n",
    "        y = dicty['array'][:,1]\n",
    "        ax = fig.add_subplot(r, c, i+1)\n",
    "        for key, mask in dicty['masks'].items():\n",
    "            idx = mask['array']\n",
    "            kwargs = mask['kwargs']\n",
    "            ax.scatter(X[idx],\n",
    "                       y[idx], \n",
    "                       **kwargs)\n",
    "        \n",
    "        title = dicty.get('title', '')\n",
    "        ax.set_title(title)\n",
    "        ax.legend()\n",
    "    plt.show()"
   ]
  },
  {
   "cell_type": "code",
   "execution_count": 21,
   "metadata": {},
   "outputs": [
    {
     "data": {
      "image/png": "[encoded data removed]",
      "text/plain": [
       "<matplotlib.figure.Figure at 0x120df2bd0>"
      ]
     },
     "metadata": {},
     "output_type": "display_data"
    }
   ],
   "source": [
    "scatter_plotter([plt_dict])"
   ]
  },
  {
   "cell_type": "code",
   "execution_count": 22,
   "metadata": {},
   "outputs": [
    {
     "name": "stdout",
     "output_type": "stream",
     "text": [
      "BELDEN TIMOTHY N\n",
      "CALGER CHRISTOPHER F\n",
      "DELAINEY DAVID W\n",
      "FORNEY M\n",
      "KAMINSKI WINCENTY J\n",
      "KEAN STEVEN J\n"
     ]
    }
   ],
   "source": [
    "for key in outlier_keys:\n",
    "    print key"
   ]
  },
  {
   "cell_type": "code",
   "execution_count": 24,
   "metadata": {},
   "outputs": [],
   "source": [
    "out_data = mean_data.copy()\n",
    "for key in outlier_keys:\n",
    "    del out_data[key]"
   ]
  },
  {
   "cell_type": "code",
   "execution_count": 25,
   "metadata": {
    "collapsed": true
   },
   "outputs": [],
   "source": [
    "out_path = os.path.join(DATA_PATH, 'out_data.pkl')\n",
    "with open(out_path, 'wb') as f:\n",
    "    pickle.dump(out_data, f)"
   ]
  }
 ],
 "metadata": {
  "kernelspec": {
   "display_name": "Python 2",
   "language": "python",
   "name": "python2"
  },
  "language_info": {
   "codemirror_mode": {
    "name": "ipython",
    "version": 2
   },
   "file_extension": ".py",
   "mimetype": "text/x-python",
   "name": "python",
   "nbconvert_exporter": "python",
   "pygments_lexer": "ipython2",
   "version": "2.7.13"
  }
 },
 "nbformat": 4,
 "nbformat_minor": 2
}
