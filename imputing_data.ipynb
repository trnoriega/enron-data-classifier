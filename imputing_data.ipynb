{
 "cells": [
  {
   "cell_type": "markdown",
   "metadata": {},
   "source": [
    "# Imputing data"
   ]
  },
  {
   "cell_type": "markdown",
   "metadata": {},
   "source": [
    "Get necessary data and variables from [outlier_removal](outlier_removal.ipynb) and [email_features](email_features.ipynb)"
   ]
  },
  {
   "cell_type": "code",
   "execution_count": 1,
   "metadata": {
    "collapsed": true
   },
   "outputs": [],
   "source": [
    "import numpy as np\n",
    "import matplotlib.pyplot as plt"
   ]
  },
  {
   "cell_type": "code",
   "execution_count": 2,
   "metadata": {
    "collapsed": true
   },
   "outputs": [],
   "source": [
    "import os\n",
    "import pickle\n",
    "HOME_PATH = os.path.expanduser('~')\n",
    "DATA_PATH = os.path.join(HOME_PATH, 'Desktop', 'raw_data', 'ml')\n",
    "out_path = os.path.join(DATA_PATH, 'out_data.pkl')\n",
    "keys_path = os.path.join(DATA_PATH, 'all_keys.pkl')\n",
    "\n",
    "with open(out_path, 'rb') as f:\n",
    "    out_data = pickle.load(f)\n",
    "\n",
    "with open(keys_path, 'rb') as f:\n",
    "    all_keys = pickle.load(f)"
   ]
  },
  {
   "cell_type": "code",
   "execution_count": 13,
   "metadata": {},
   "outputs": [
    {
     "data": {
      "text/plain": [
       "((139,), (139,), (139, 74024))"
      ]
     },
     "execution_count": 13,
     "metadata": {},
     "output_type": "execute_result"
    }
   ],
   "source": [
    "from tools.feature_format import featureFormat\n",
    "\n",
    "# Start with all features except: 'email_address'\n",
    "all_keys.remove('email_address')\n",
    "\n",
    "data = featureFormat(out_data, all_keys, sort_keys=True, \n",
    "                     keep_keys=True, remove_NaN=False)\n",
    "\n",
    "keys, labels, features = data[:,0],\\\n",
    "                         data[:,1].astype(np.float16),\\\n",
    "                         data[:, 2:].astype(np.float32)\n",
    "keys.shape, labels.shape, features.shape"
   ]
  },
  {
   "cell_type": "code",
   "execution_count": 14,
   "metadata": {},
   "outputs": [
    {
     "data": {
      "text/plain": [
       "(139, 74026)"
      ]
     },
     "execution_count": 14,
     "metadata": {},
     "output_type": "execute_result"
    }
   ],
   "source": [
    "from sklearn.preprocessing import Imputer\n",
    "\n",
    "imp = Imputer(strategy='mean')\n",
    "new_features = imp.fit_transform(features)\n",
    "imputer_arr = np.concatenate((keys[:,None],\n",
    "                              labels[:,None],\n",
    "                              new_features), axis=1)\n",
    "\n",
    "imputer_arr.shape"
   ]
  },
  {
   "cell_type": "code",
   "execution_count": 15,
   "metadata": {
    "collapsed": true
   },
   "outputs": [],
   "source": [
    "# Transform mean_array back to a data_dict\n",
    "mean_data = {}\n",
    "\n",
    "for key in keys:\n",
    "    mean_data[key] = {}\n",
    "    # Since 'email_address' was removed from all_keys add back here\n",
    "    mean_data[key]['email_address'] = out_data[key]['email_address']\n",
    "    row_i = np.argwhere(imputer_arr == key)[0][0]\n",
    "    value_row = imputer_arr[row_i, 1:]\n",
    "    assert len(value_row) == len(all_keys), 'lengths of value_row and in_keys don\\'t match'\n",
    "    for i, value in enumerate(value_row):\n",
    "        mean_data[key][all_keys[i]] = float(value)"
   ]
  },
  {
   "cell_type": "code",
   "execution_count": 16,
   "metadata": {},
   "outputs": [
    {
     "name": "stdout",
     "output_type": "stream",
     "text": [
      "<type 'dict'> mark.metts@enron.com 139 74026\n"
     ]
    }
   ],
   "source": [
    "print type(mean_data),\\\n",
    "      mean_data['METTS MARK']['email_address'],\\\n",
    "      len(mean_data),\\\n",
    "      len(mean_data['METTS MARK']) "
   ]
  },
  {
   "cell_type": "code",
   "execution_count": 17,
   "metadata": {},
   "outputs": [
    {
     "data": {
      "text/plain": [
       "12568"
      ]
     },
     "execution_count": 17,
     "metadata": {},
     "output_type": "execute_result"
    }
   ],
   "source": [
    "from sys import getsizeof\n",
    "getsizeof(mean_data)"
   ]
  },
  {
   "cell_type": "code",
   "execution_count": 18,
   "metadata": {},
   "outputs": [],
   "source": [
    "imputer_path = os.path.join(DATA_PATH, 'mean_data.pkl')\n",
    "with open(imputer_path, 'wb') as f:\n",
    "    pickle.dump(mean_data, f, protocol=pickle.HIGHEST_PROTOCOL)"
   ]
  },
  {
   "cell_type": "code",
   "execution_count": 25,
   "metadata": {
    "collapsed": true
   },
   "outputs": [],
   "source": [
    "from sklearn.decomposition import PCA\n",
    "from copy import deepcopy\n",
    "\n",
    "# generate a plot_dict with the non_imputed out_data\n",
    "data = featureFormat(out_data, all_keys, sort_keys=True, \n",
    "                     keep_keys=False, remove_NaN=True)\n",
    "\n",
    "labels, features = data[:,0].astype(np.float16), data[:, 1:].astype(np.float32)\n",
    "pca = PCA(n_components=2)\n",
    "arr = pca.fit_transform(features)\n",
    "\n",
    "plt_dict = {'title': ''}\n",
    "plt_dict['array'] = arr\n",
    "plt_dict['masks'] = {}\n",
    "plt_dict['masks']['poi'] = {'array': (labels == 1),\n",
    "                            'kwargs': {'facecolors':'none', \n",
    "                                       'edgecolors':'lightblue',\n",
    "                                       'label':'Non-imputed poi'}}\n",
    "plt_dict['masks']['non_poi'] = {'array': (labels == 0),\n",
    "                                'kwargs': {'facecolors':'none', \n",
    "                                            'edgecolors':'lightblue',\n",
    "                                            's':5,\n",
    "                                            'label':'Non-imputed non_poi'}}\n",
    "\n",
    "# generate a plot_dict with the imputed mean_data\n",
    "data = featureFormat(mean_data, all_keys, sort_keys=True, \n",
    "                     keep_keys=False, remove_NaN=True)\n",
    "labels, features = data[:,0].astype(np.float16), data[:, 1:].astype(np.float32)\n",
    "arr = pca.fit_transform(features)\n",
    "\n",
    "mean_dict = {'title': 'Non-imputed vs. imputed'}\n",
    "mean_dict['array'] = arr\n",
    "mean_dict['masks'] = {}\n",
    "mean_dict['masks']['poi'] = {'array': (labels == 1),\n",
    "                            'kwargs': {'facecolors':'none', \n",
    "                                       'edgecolors':'crimson',\n",
    "                                       'label':'Imputed poi'}}\n",
    "mean_dict['masks']['non_poi'] = {'array': (labels == 0),\n",
    "                                'kwargs': {'facecolors':'none', \n",
    "                                            'edgecolors':'crimson',\n",
    "                                            's':5,\n",
    "                                            'label':'Imputed non_poi'}}\n",
    "list_to_plot = [plt_dict, mean_dict]"
   ]
  },
  {
   "cell_type": "code",
   "execution_count": 23,
   "metadata": {
    "collapsed": true
   },
   "outputs": [],
   "source": [
    "def scatter_plotter(dict_list, rows_columns=(1,1), figsize=(7, 7)):\n",
    "    \"\"\"\n",
    "    Takes a list of dicts and plots each.\n",
    "    \n",
    "    dicts should contain the following:\n",
    "    'array': X, y array to be plotted\n",
    "    'title': title for the array\n",
    "    'masks': dicts with\n",
    "                -'mask': bool index to apply\n",
    "                -'kwargs': keyword arguments to apply to the mask \n",
    "    \"\"\"\n",
    "    r = rows_columns[0]\n",
    "    c = rows_columns[1]\n",
    "    plt.close('all')\n",
    "    fig = plt.figure(figsize=figsize, tight_layout=True)\n",
    "    for i, dicty in enumerate(dict_list):\n",
    "        X = dicty['array'][:,0]\n",
    "        y = dicty['array'][:,1]\n",
    "        #ax = fig.add_subplot(r, c, i+1)\n",
    "        ax = fig.gca()\n",
    "        for key, mask in dicty['masks'].items():\n",
    "            idx = mask['array']\n",
    "            kwargs = mask['kwargs']\n",
    "            ax.scatter(X[idx],\n",
    "                       y[idx], \n",
    "                       **kwargs)\n",
    "        \n",
    "        title = dicty.get('title', '')\n",
    "        ax.set_title(title)\n",
    "        ax.legend()\n",
    "    plt.show()"
   ]
  },
  {
   "cell_type": "code",
   "execution_count": 26,
   "metadata": {},
   "outputs": [
    {
     "data": {
      "image/png": "[encoded data removed]",
      "text/plain": [
       "<matplotlib.figure.Figure at 0x17fff3310>"
      ]
     },
     "metadata": {},
     "output_type": "display_data"
    }
   ],
   "source": [
    "scatter_plotter(list_to_plot, rows_columns=(1,1), figsize=(8,8))"
   ]
  }
 ],
 "metadata": {
  "kernelspec": {
   "display_name": "Python 2",
   "language": "python",
   "name": "python2"
  },
  "language_info": {
   "codemirror_mode": {
    "name": "ipython",
    "version": 2
   },
   "file_extension": ".py",
   "mimetype": "text/x-python",
   "name": "python",
   "nbconvert_exporter": "python",
   "pygments_lexer": "ipython2",
   "version": "2.7.13"
  }
 },
 "nbformat": 4,
 "nbformat_minor": 2
}
