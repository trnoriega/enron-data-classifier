{
 "cells": [
  {
   "cell_type": "markdown",
   "metadata": {},
   "source": [
    "# Imputing data\n",
    "\n",
    "### Support Functions"
   ]
  },
  {
   "cell_type": "code",
   "execution_count": 1,
   "metadata": {
    "collapsed": true
   },
   "outputs": [],
   "source": [
    "import numpy as np\n",
    "import matplotlib.pyplot as plt\n",
    "    \n",
    "# For make_features_labels\n",
    "from tools.feature_format import featureFormat, targetFeatureSplit\n",
    "\n",
    "def make_features_labels(dataset, feature_names, remove_nan=False):\n",
    "    \"\"\"\n",
    "    Quick way to split a dataset into features and labels based on feature names\n",
    "    \"\"\"\n",
    "    data = featureFormat(dataset, feature_names, \n",
    "                         sort_keys=True, remove_NaN=remove_nan, remove_all_zeroes=False)\n",
    "    labels, features = targetFeatureSplit(data)\n",
    "    labels = np.array(labels)\n",
    "    features = np.array(features)\n",
    "    \n",
    "    return features, labels"
   ]
  },
  {
   "cell_type": "markdown",
   "metadata": {},
   "source": [
    "### Get necessary data and variables from [feature_selection](feature_selection.ipynb)"
   ]
  },
  {
   "cell_type": "code",
   "execution_count": 2,
   "metadata": {},
   "outputs": [
    {
     "name": "stdout",
     "output_type": "stream",
     "text": [
      "66 negative values changed to zero\n"
     ]
    }
   ],
   "source": [
    "import pickle\n",
    "with open('data/final_project_dataset.pkl', 'rb') as f:\n",
    "    fin_data = pickle.load(f)\n",
    "\n",
    "# Remove 'TOTAL' from data\n",
    "del fin_data['TOTAL']\n",
    "\n",
    "# Convert negative numbers in data to zero\n",
    "count = 0\n",
    "for key1, item in fin_data.items():\n",
    "    for key2 in item.keys():\n",
    "        if item[key2] < 0:\n",
    "            item[key2] = 0\n",
    "            count += 1\n",
    "print '%i negative values changed to zero' % count\n",
    "\n",
    "with open('selected_feature_names.pkl', 'rb') as f:\n",
    "    selected_feature_names = pickle.load(f)\n",
    "    \n",
    "selected_features, selected_labels = make_features_labels(fin_data, selected_feature_names)\n",
    "imputer_dict = {'original': (selected_features, selected_labels)}"
   ]
  },
  {
   "cell_type": "code",
   "execution_count": 3,
   "metadata": {},
   "outputs": [],
   "source": [
    "nan_mask = np.isnan(selected_features)\n",
    "zero_features = selected_features.copy()\n",
    "zero_features[nan_mask] = 0\n",
    "imputer_dict['zero'] = (zero_features, selected_labels)"
   ]
  },
  {
   "cell_type": "code",
   "execution_count": 4,
   "metadata": {},
   "outputs": [
    {
     "data": {
      "text/plain": [
       "True"
      ]
     },
     "execution_count": 4,
     "metadata": {},
     "output_type": "execute_result"
    }
   ],
   "source": [
    "#Show that zero_features is actually the same as what was being done before with remove_NaN\n",
    "test_features, test_labels = make_features_labels(fin_data, \n",
    "                                                  selected_feature_names, \n",
    "                                                  remove_nan=True)\n",
    "np.array_equal(zero_features, test_features)"
   ]
  },
  {
   "cell_type": "code",
   "execution_count": 5,
   "metadata": {},
   "outputs": [],
   "source": [
    "from sklearn.preprocessing import Imputer\n",
    "imputer_strategy_list = ['mean', 'median', 'most_frequent']\n",
    "for strategy in imputer_strategy_list:\n",
    "    imp = Imputer(strategy='%s' % strategy)\n",
    "    new_features = imp.fit_transform(selected_features)\n",
    "    imputer_dict[strategy] = (new_features, test_labels)"
   ]
  },
  {
   "cell_type": "code",
   "execution_count": 8,
   "metadata": {},
   "outputs": [
    {
     "name": "stdout",
     "output_type": "stream",
     "text": [
      "zero\n",
      "(145, 11) (145,)\n",
      "False\n",
      "\n",
      "most_frequent\n",
      "(145, 11) (145,)\n",
      "False\n",
      "\n",
      "median\n",
      "(145, 11) (145,)\n",
      "False\n",
      "\n",
      "original\n",
      "(145, 11) (145,)\n",
      "False\n",
      "\n",
      "mean\n",
      "(145, 11) (145,)\n",
      "False\n",
      "\n"
     ]
    }
   ],
   "source": [
    "for key in imputer_dict.keys():\n",
    "    print key\n",
    "    print imputer_dict[key][0].shape, imputer_dict[key][1].shape\n",
    "    print np.array_equal(selected_features, imputer_dict[key][0])\n",
    "    print"
   ]
  },
  {
   "cell_type": "code",
   "execution_count": 10,
   "metadata": {},
   "outputs": [
    {
     "data": {
      "text/plain": [
       "False"
      ]
     },
     "execution_count": 10,
     "metadata": {},
     "output_type": "execute_result"
    }
   ],
   "source": [
    "#Expect the original to not be equal to itself because nan != nan\n",
    "np.array_equiv(selected_features, selected_features)"
   ]
  },
  {
   "cell_type": "code",
   "execution_count": 11,
   "metadata": {
    "collapsed": true
   },
   "outputs": [],
   "source": [
    "with open('imputer_dict.pkl', 'wb') as f:\n",
    "    pickle.dump(imputer_dict, f)"
   ]
  }
 ],
 "metadata": {
  "kernelspec": {
   "display_name": "Python 2",
   "language": "python",
   "name": "python2"
  },
  "language_info": {
   "codemirror_mode": {
    "name": "ipython",
    "version": 2
   },
   "file_extension": ".py",
   "mimetype": "text/x-python",
   "name": "python",
   "nbconvert_exporter": "python",
   "pygments_lexer": "ipython2",
   "version": "2.7.13"
  }
 },
 "nbformat": 4,
 "nbformat_minor": 2
}
