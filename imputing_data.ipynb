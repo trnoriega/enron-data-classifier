{
 "cells": [
  {
   "cell_type": "markdown",
   "metadata": {},
   "source": [
    "# Imputing data\n",
    "\n",
    "### Support Functions"
   ]
  },
  {
   "cell_type": "code",
   "execution_count": 14,
   "metadata": {
    "collapsed": true
   },
   "outputs": [],
   "source": [
    "import numpy as np\n",
    "import matplotlib.pyplot as plt\n",
    "    \n",
    "def make_features_labels(dataset, feature_names, remove_nan=False):\n",
    "    \"\"\"\n",
    "    Quick way to split a dataset into features and labels based on feature names\n",
    "    \"\"\"\n",
    "    data = featureFormat(dataset, feature_names, \n",
    "                         sort_keys=True, remove_NaN=remove_nan)\n",
    "    labels, features = targetFeatureSplit(data)\n",
    "    labels = np.array(labels)\n",
    "    features = np.array(features)\n",
    "    \n",
    "    return features, labels"
   ]
  },
  {
   "cell_type": "markdown",
   "metadata": {},
   "source": [
    "### Get necessary data and variables from [feature_selection](feature_selection.ipynb)"
   ]
  },
  {
   "cell_type": "code",
   "execution_count": 15,
   "metadata": {},
   "outputs": [
    {
     "name": "stdout",
     "output_type": "stream",
     "text": [
      "66 negative values changed to zero\n"
     ]
    }
   ],
   "source": [
    "import pickle\n",
    "with open('data/final_project_dataset.pkl', 'rb') as f:\n",
    "    fin_data = pickle.load(f)\n",
    "\n",
    "# Remove 'TOTAL' from data\n",
    "del fin_data['TOTAL']\n",
    "\n",
    "# Convert negative numbers in data to zero\n",
    "count = 0\n",
    "for key1, item in fin_data.items():\n",
    "    for key2 in item.keys():\n",
    "        if item[key2] < 0:\n",
    "            item[key2] = 0\n",
    "            count += 1\n",
    "print '%i negative values changed to zero' % count\n",
    "\n",
    "with open('selected_feature_names.pkl', 'rb') as f:\n",
    "    selected_feature_names = pickle.load(f)\n",
    "    \n",
    "selected_features, selected_labels = make_features_labels(fin_data, selected_feature_names)"
   ]
  },
  {
   "cell_type": "code",
   "execution_count": 31,
   "metadata": {},
   "outputs": [
    {
     "data": {
      "text/plain": [
       "array([  4.48444200e+06,   1.82466000e+05,   9.16197000e+05,\n",
       "         5.63434300e+06,   8.27696000e+05,   8.60136000e+05,\n",
       "         9.69068000e+05,   5.50163000e+06,   1.02500000e+05,\n",
       "         2.28474000e+05,   6.18850000e+05,   1.54562900e+07,\n",
       "         2.04759300e+06,   2.01483500e+06,   1.27900000e+03,\n",
       "         2.66958900e+06,   4.92880000e+04,   1.05463700e+06,\n",
       "         1.27158200e+06,   2.35570200e+06,   1.63929700e+06,\n",
       "         4.77557000e+05,   1.86875800e+06,              nan,\n",
       "                    nan,              nan,   1.49034400e+06,\n",
       "                    nan,   1.10139300e+06,   8.07956000e+05,\n",
       "         1.20864900e+06,   4.74797900e+06,   5.50981000e+05,\n",
       "         1.20458300e+06,   1.41046400e+06,   2.36815100e+06,\n",
       "         3.19941000e+05,   8.75760000e+05,   7.74920000e+04,\n",
       "         2.09326300e+06,   2.69232400e+06,   2.11725000e+05,\n",
       "         3.67634000e+06,   2.42408300e+06,   1.41485700e+06,\n",
       "                    nan,   1.81755000e+05,   1.72525300e+07,\n",
       "         5.05910000e+04,   9.00585000e+05,   1.56646900e+06,\n",
       "                    nan,   9.66522000e+05,              nan,\n",
       "         1.27228400e+06,   2.14697300e+06,   1.19292000e+05,\n",
       "         1.14665800e+06,   3.85906500e+06,   2.88682000e+05,\n",
       "         4.75000000e+02,   7.96100000e+03,              nan,\n",
       "         1.29746100e+06,   2.08179600e+06,   9.10930000e+04,\n",
       "         3.13186000e+06,              nan,   3.10022400e+06,\n",
       "         1.97959600e+06,   5.51174000e+05,   8.37500000e+04,\n",
       "         1.08682100e+06,   1.74752200e+06,   7.04896000e+05,\n",
       "         3.47114100e+06,   1.58742100e+06,   2.65261200e+06,\n",
       "         1.04257570e+07,   1.03559793e+08,   2.66422800e+06,\n",
       "         8.74920000e+04,              nan,   8.75889000e+05,\n",
       "                    nan,              nan,   8.40701600e+06,\n",
       "                    nan,   1.31876300e+06,   2.10136400e+06,\n",
       "                    nan,   4.09977100e+06,   1.48000000e+02,\n",
       "         1.06182700e+06,   2.15100000e+03,   1.84822700e+06,\n",
       "                    nan,   6.28522000e+05,   3.20207000e+06,\n",
       "         8.12194000e+05,   7.74401000e+05,   1.32155700e+06,\n",
       "         2.49787000e+05,   3.12338300e+06,   2.79420000e+04,\n",
       "         1.38669000e+06,   1.73762900e+06,              nan,\n",
       "                    nan,   5.64348000e+05,   1.11529000e+05,\n",
       "         3.94475000e+05,   5.05050000e+05,   1.09910000e+06,\n",
       "         3.75000000e+03,              nan,   3.03870200e+06,\n",
       "         1.05754800e+06,   1.57651100e+06,   2.00388500e+06,\n",
       "                    nan,   4.33538800e+06,   8.68271600e+06,\n",
       "         1.11208700e+06,   9.99356000e+05,   1.54505900e+06,\n",
       "         1.09266300e+06,   3.62096000e+05,   9.11453000e+05,\n",
       "         3.99393000e+05,   1.13046100e+06,   2.28656000e+05,\n",
       "         2.13071000e+05,   1.79878000e+06,   8.74100000e+04,\n",
       "         1.03439500e+06,   7.62135000e+05,              nan,\n",
       "         4.67757400e+06,   1.93435900e+06,   8.49920000e+04,\n",
       "         1.89583000e+05,              nan,   3.60300000e+05,\n",
       "         5.50970000e+04])"
      ]
     },
     "execution_count": 31,
     "metadata": {},
     "output_type": "execute_result"
    }
   ],
   "source": [
    "selected_features[:,1]"
   ]
  },
  {
   "cell_type": "code",
   "execution_count": 35,
   "metadata": {},
   "outputs": [
    {
     "name": "stderr",
     "output_type": "stream",
     "text": [
      "/Users/TRN/anaconda/envs/ml27/lib/python2.7/site-packages/ipykernel_launcher.py:1: FutureWarning: elementwise comparison failed; returning scalar instead, but in the future will perform elementwise comparison\n",
      "  \"\"\"Entry point for launching an IPython kernel.\n"
     ]
    },
    {
     "data": {
      "text/plain": [
       "False"
      ]
     },
     "execution_count": 35,
     "metadata": {},
     "output_type": "execute_result"
    }
   ],
   "source": [
    "'nan' in selected_features[:,1]"
   ]
  },
  {
   "cell_type": "markdown",
   "metadata": {},
   "source": []
  },
  {
   "cell_type": "code",
   "execution_count": 18,
   "metadata": {
    "collapsed": true
   },
   "outputs": [],
   "source": [
    "from sklearn.preprocessing import Imputer\n",
    "imp = Imputer()\n",
    "new_features = imp.fit_transform(selected_features)"
   ]
  },
  {
   "cell_type": "code",
   "execution_count": 19,
   "metadata": {},
   "outputs": [
    {
     "data": {
      "text/plain": [
       "array([[  2.01955000e+05,   4.48444200e+06,   1.72954100e+06, ...,\n",
       "          1.52000000e+02,   3.04805000e+05,   4.70000000e+01],\n",
       "       [  2.84087543e+05,   1.82466000e+05,   2.57817000e+05, ...,\n",
       "          4.65276663e+05,   7.46491200e+05,   6.48953488e+01],\n",
       "       [  4.77000000e+02,   9.16197000e+05,   4.04615700e+06, ...,\n",
       "          8.64523000e+05,   7.46491200e+05,   3.90000000e+01],\n",
       "       ..., \n",
       "       [  2.84087543e+05,   2.62342118e+06,   1.39130000e+05, ...,\n",
       "          4.65276663e+05,   7.46491200e+05,   6.48953488e+01],\n",
       "       [  1.58403000e+05,   3.60300000e+05,   8.30855200e+06, ...,\n",
       "          1.47950000e+05,   7.46491200e+05,   6.48953488e+01],\n",
       "       [  2.84087543e+05,   5.50970000e+04,   1.92758000e+05, ...,\n",
       "          4.65276663e+05,   7.46491200e+05,   6.48953488e+01]])"
      ]
     },
     "execution_count": 19,
     "metadata": {},
     "output_type": "execute_result"
    }
   ],
   "source": [
    "new_features"
   ]
  }
 ],
 "metadata": {
  "kernelspec": {
   "display_name": "Python 2",
   "language": "python",
   "name": "python2"
  },
  "language_info": {
   "codemirror_mode": {
    "name": "ipython",
    "version": 2
   },
   "file_extension": ".py",
   "mimetype": "text/x-python",
   "name": "python",
   "nbconvert_exporter": "python",
   "pygments_lexer": "ipython2",
   "version": "2.7.13"
  }
 },
 "nbformat": 4,
 "nbformat_minor": 2
}
