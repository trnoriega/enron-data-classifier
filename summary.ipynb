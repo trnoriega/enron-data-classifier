{
 "cells": [
  {
   "cell_type": "markdown",
   "metadata": {},
   "source": [
    "# Analysis of Enron Data\n",
    "## Based on Udacity intro to machine learning course\n",
    "\n",
    "### Data sources:\n",
    "- Raw email text data can be found at: https://www.cs.cmu.edu/~./enron/enron_mail_20150507.tgz\n",
    "and a breakdown of emails by sender can be found [here](data/emails_by_address/)\n",
    "- The financial data was compiled from [this file](data/financial_data.pdf)\n",
    "- The persons of interest \"pois\" come from [this file](data/poi_names.txt)"
   ]
  },
  {
   "cell_type": "markdown",
   "metadata": {},
   "source": [
    "### Get the data already preprocessed\n",
    "\n",
    "- `all_keys` from [outlier_removal](outlier_removal.ipynb)\n",
    "- `mean_data` from [imputing_data](imputing_data.ipynb)"
   ]
  },
  {
   "cell_type": "code",
   "execution_count": 1,
   "metadata": {
    "collapsed": true
   },
   "outputs": [],
   "source": [
    "import os\n",
    "import pickle\n",
    "\n",
    "HOME_PATH = os.path.expanduser('~')\n",
    "DATA_PATH = os.path.join(HOME_PATH, 'Desktop', 'raw_data', 'ml')\n",
    "mean_path = os.path.join(DATA_PATH, 'mean_data.pkl')\n",
    "keys_path = os.path.join(DATA_PATH, 'all_keys.pkl')\n",
    "\n",
    "with open(mean_path, 'rb') as f:\n",
    "    mean_data = pickle.load(f)\n",
    "\n",
    "with open(keys_path, 'rb') as f:\n",
    "    all_keys = pickle.load(f)"
   ]
  },
  {
   "cell_type": "markdown",
   "metadata": {},
   "source": [
    "### Make a pipeline"
   ]
  },
  {
   "cell_type": "code",
   "execution_count": 2,
   "metadata": {
    "collapsed": true
   },
   "outputs": [],
   "source": [
    "from sklearn.pipeline import Pipeline\n",
    "from sklearn.preprocessing import StandardScaler, PolynomialFeatures\n",
    "from sklearn.feature_selection import SelectPercentile, chi2\n",
    "from sklearn.naive_bayes import GaussianNB\n",
    "\n",
    "pipe = Pipeline([\n",
    "                 ('scaler', StandardScaler()),\n",
    "                 ('polynomials', PolynomialFeatures(2)),\n",
    "                 ('feature_selr', SelectPercentile(chi2)),\n",
    "                 ('estimator', GaussianNB())\n",
    "                ])"
   ]
  },
  {
   "cell_type": "markdown",
   "metadata": {},
   "source": [
    "Get the pipeline parameters found in [parameter_optimization](parameter_optimization.ipynb)"
   ]
  },
  {
   "cell_type": "code",
   "execution_count": 13,
   "metadata": {
    "collapsed": true
   },
   "outputs": [],
   "source": [
    "with open('testing_params.pickle', 'rb') as f:\n",
    "    testing_params = pickle.load(f)\n",
    "\n",
    "with open('large_grid.pkl', 'rb') as f:\n",
    "    large_grid = pickle.load(f)\n",
    "    \n",
    "# clf = pipe.set_params(**testing_params)\n",
    "clf = large_grid.best_estimator_"
   ]
  },
  {
   "cell_type": "code",
   "execution_count": 14,
   "metadata": {},
   "outputs": [
    {
     "data": {
      "text/plain": [
       "Pipeline(steps=[('scaler', StandardScaler(copy=True, with_mean=True, with_std=True)), ('polynomials', PolynomialFeatures(degree=2, include_bias=True, interaction_only=False)), ('feature_selr', SelectFromModel(estimator=ExtraTreesClassifier(bootstrap=False, class_weight='balanced',\n",
       "           criterion='gini'...random_state=42, splitter='best'),\n",
       "          learning_rate=0.1, n_estimators=250, random_state=42))])"
      ]
     },
     "execution_count": 14,
     "metadata": {},
     "output_type": "execute_result"
    }
   ],
   "source": [
    "clf"
   ]
  },
  {
   "cell_type": "code",
   "execution_count": 15,
   "metadata": {
    "collapsed": true
   },
   "outputs": [],
   "source": [
    "### Dump classifier, dataset, and features_list so anyone can check your results.\n",
    "from tools.tester import dump_classifier_and_data\n",
    "dump_classifier_and_data(clf, my_dataset, features_list)"
   ]
  },
  {
   "cell_type": "code",
   "execution_count": 16,
   "metadata": {},
   "outputs": [
    {
     "name": "stdout",
     "output_type": "stream",
     "text": [
      "Loading data\n",
      "Done loading\n",
      "Start testing\n",
      "Testing splits: \n",
      ". 5 % . 10 % . 20 % . 40 % . 80 % Pipeline(steps=[('scaler', StandardScaler(copy=True, with_mean=True, with_std=True)), ('polynomials', PolynomialFeatures(degree=2, include_bias=True, interaction_only=False)), ('feature_selr', SelectFromModel(estimator=ExtraTreesClassifier(bootstrap=False, class_weight='balanced',\n",
      "           criterion='gini'...random_state=42, splitter='best'),\n",
      "          learning_rate=0.1, n_estimators=250, random_state=42))])\n",
      "\tAccuracy: 0.81947\tPrecision: 0.27132\tRecall: 0.21000\tF1: 0.23675\tF2: 0.21994\n",
      "\tTotal predictions: 15000\tTrue positives:  420\tFalse positives: 1128\tFalse negatives: 1580\tTrue negatives: 11872\n",
      "\n",
      "Done testing\n"
     ]
    }
   ],
   "source": [
    "run tools/tester.py"
   ]
  }
 ],
 "metadata": {
  "kernelspec": {
   "display_name": "Python 2",
   "language": "python",
   "name": "python2"
  },
  "language_info": {
   "codemirror_mode": {
    "name": "ipython",
    "version": 2
   },
   "file_extension": ".py",
   "mimetype": "text/x-python",
   "name": "python",
   "nbconvert_exporter": "python",
   "pygments_lexer": "ipython2",
   "version": "2.7.13"
  }
 },
 "nbformat": 4,
 "nbformat_minor": 2
}
